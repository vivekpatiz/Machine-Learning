{
 "cells": [
  {
   "cell_type": "markdown",
   "id": "5d093796",
   "metadata": {},
   "source": [
    "Given the following text, tokenize it into words and sentences:"
   ]
  },
  {
   "cell_type": "code",
   "execution_count": 1,
   "id": "bcb0f425",
   "metadata": {},
   "outputs": [],
   "source": [
    "text = \"Natural Language Processing with Python is fun. Tokenization is the first step in text preprocessing!\"\n"
   ]
  },
  {
   "cell_type": "code",
   "execution_count": 2,
   "id": "ad32d741",
   "metadata": {},
   "outputs": [],
   "source": [
    "import nltk"
   ]
  },
  {
   "cell_type": "code",
   "execution_count": 3,
   "id": "74b7d90d",
   "metadata": {},
   "outputs": [],
   "source": [
    "sent = nltk.sent_tokenize(text)"
   ]
  },
  {
   "cell_type": "code",
   "execution_count": 4,
   "id": "50603591",
   "metadata": {},
   "outputs": [
    {
     "data": {
      "text/plain": [
       "['Natural Language Processing with Python is fun.',\n",
       " 'Tokenization is the first step in text preprocessing!']"
      ]
     },
     "execution_count": 4,
     "metadata": {},
     "output_type": "execute_result"
    }
   ],
   "source": [
    "sent"
   ]
  },
  {
   "cell_type": "code",
   "execution_count": 5,
   "id": "f3535736",
   "metadata": {},
   "outputs": [],
   "source": [
    "word = nltk.word_tokenize(text)"
   ]
  },
  {
   "cell_type": "code",
   "execution_count": 6,
   "id": "28904340",
   "metadata": {},
   "outputs": [
    {
     "data": {
      "text/plain": [
       "['Natural',\n",
       " 'Language',\n",
       " 'Processing',\n",
       " 'with',\n",
       " 'Python',\n",
       " 'is',\n",
       " 'fun',\n",
       " '.',\n",
       " 'Tokenization',\n",
       " 'is',\n",
       " 'the',\n",
       " 'first',\n",
       " 'step',\n",
       " 'in',\n",
       " 'text',\n",
       " 'preprocessing',\n",
       " '!']"
      ]
     },
     "execution_count": 6,
     "metadata": {},
     "output_type": "execute_result"
    }
   ],
   "source": [
    "word"
   ]
  },
  {
   "cell_type": "markdown",
   "id": "27f1d21c",
   "metadata": {},
   "source": [
    "Remove all punctuations from the given text using NLTK:"
   ]
  },
  {
   "cell_type": "code",
   "execution_count": 7,
   "id": "45f1ed11",
   "metadata": {},
   "outputs": [],
   "source": [
    "text = \"Hello! NLP is amazing, isn't it?\""
   ]
  },
  {
   "cell_type": "code",
   "execution_count": 11,
   "id": "373c5898",
   "metadata": {},
   "outputs": [],
   "source": [
    "from string import punctuation \n",
    "a = \"\".join([i for i in text if i not in punctuation])"
   ]
  },
  {
   "cell_type": "code",
   "execution_count": 12,
   "id": "549ef83e",
   "metadata": {},
   "outputs": [
    {
     "data": {
      "text/plain": [
       "'Hello NLP is amazing isnt it'"
      ]
     },
     "execution_count": 12,
     "metadata": {},
     "output_type": "execute_result"
    }
   ],
   "source": [
    "a"
   ]
  },
  {
   "cell_type": "markdown",
   "id": "7746ad70",
   "metadata": {},
   "source": [
    "Using the NLTK stopword list, remove all stopwords from the following text:"
   ]
  },
  {
   "cell_type": "code",
   "execution_count": 14,
   "id": "edbbb379",
   "metadata": {},
   "outputs": [
    {
     "name": "stderr",
     "output_type": "stream",
     "text": [
      "[nltk_data] Downloading package stopwords to\n",
      "[nltk_data]     C:\\Users\\vivek\\AppData\\Roaming\\nltk_data...\n",
      "[nltk_data]   Package stopwords is already up-to-date!\n"
     ]
    },
    {
     "data": {
      "text/plain": [
       "True"
      ]
     },
     "execution_count": 14,
     "metadata": {},
     "output_type": "execute_result"
    }
   ],
   "source": [
    "nltk.download('stopwords')"
   ]
  },
  {
   "cell_type": "code",
   "execution_count": 17,
   "id": "f68373f5",
   "metadata": {},
   "outputs": [],
   "source": [
    "stopword = nltk.corpus.stopwords.words('english')"
   ]
  },
  {
   "cell_type": "code",
   "execution_count": 30,
   "id": "e77beb43",
   "metadata": {},
   "outputs": [],
   "source": [
    "text = \"This is an example showing off stopword filtration in NLTK.\"\n"
   ]
  },
  {
   "cell_type": "code",
   "execution_count": 45,
   "id": "b28c6db3",
   "metadata": {},
   "outputs": [
    {
     "data": {
      "text/plain": [
       "['this',\n",
       " 'is',\n",
       " 'an',\n",
       " 'example',\n",
       " 'showing',\n",
       " 'off',\n",
       " 'stopword',\n",
       " 'filtration',\n",
       " 'in',\n",
       " 'nltk',\n",
       " '.']"
      ]
     },
     "execution_count": 45,
     "metadata": {},
     "output_type": "execute_result"
    }
   ],
   "source": [
    "wt = nltk.word_tokenize(text.lower())\n",
    "wt"
   ]
  },
  {
   "cell_type": "code",
   "execution_count": 46,
   "id": "5eb9620a",
   "metadata": {},
   "outputs": [],
   "source": [
    "new = [i for i in wt if i not in stopword]"
   ]
  },
  {
   "cell_type": "code",
   "execution_count": 47,
   "id": "7fac8078",
   "metadata": {},
   "outputs": [
    {
     "data": {
      "text/plain": [
       "['example', 'showing', 'stopword', 'filtration', 'nltk', '.']"
      ]
     },
     "execution_count": 47,
     "metadata": {},
     "output_type": "execute_result"
    }
   ],
   "source": [
    "new"
   ]
  },
  {
   "cell_type": "markdown",
   "id": "05b5a8b2",
   "metadata": {},
   "source": [
    "Apply the Porter Stemmer to the following words and return the stemmed versions:"
   ]
  },
  {
   "cell_type": "code",
   "execution_count": 48,
   "id": "c214e058",
   "metadata": {},
   "outputs": [],
   "source": [
    "words = [\"running\", \"flies\", \"easily\", \"denied\"]\n"
   ]
  },
  {
   "cell_type": "code",
   "execution_count": 53,
   "id": "d9b7d2dc",
   "metadata": {},
   "outputs": [],
   "source": [
    "\n",
    "word = nltk.PorterStemmer()\n",
    "b = [word.stem(i) for i in words]"
   ]
  },
  {
   "cell_type": "code",
   "execution_count": 54,
   "id": "8386ab9d",
   "metadata": {},
   "outputs": [
    {
     "data": {
      "text/plain": [
       "['run', 'fli', 'easili', 'deni']"
      ]
     },
     "execution_count": 54,
     "metadata": {},
     "output_type": "execute_result"
    }
   ],
   "source": [
    "b"
   ]
  },
  {
   "cell_type": "markdown",
   "id": "cb3dd702",
   "metadata": {},
   "source": [
    "Use WordNet Lemmatizer to lemmatize the following words. Specify the part of speech where appropriate:"
   ]
  },
  {
   "cell_type": "code",
   "execution_count": 55,
   "id": "7f78380a",
   "metadata": {},
   "outputs": [],
   "source": [
    "wl = nltk.WordNetLemmatizer()"
   ]
  },
  {
   "cell_type": "code",
   "execution_count": 56,
   "id": "818a6e87",
   "metadata": {},
   "outputs": [],
   "source": [
    "words = [\"running\", \"flies\", \"better\", \"denied\"]\n"
   ]
  },
  {
   "cell_type": "code",
   "execution_count": 58,
   "id": "5d460d56",
   "metadata": {},
   "outputs": [],
   "source": [
    "c = [wl.lemmatize(i) for i in words]"
   ]
  },
  {
   "cell_type": "code",
   "execution_count": 59,
   "id": "b4d91e5e",
   "metadata": {},
   "outputs": [
    {
     "data": {
      "text/plain": [
       "['running', 'fly', 'better', 'denied']"
      ]
     },
     "execution_count": 59,
     "metadata": {},
     "output_type": "execute_result"
    }
   ],
   "source": [
    "c"
   ]
  },
  {
   "cell_type": "markdown",
   "id": "6ec917ce",
   "metadata": {},
   "source": [
    "Remove all HTML tags from the following text:\n",
    "\n"
   ]
  },
  {
   "cell_type": "code",
   "execution_count": 61,
   "id": "dce3305a",
   "metadata": {},
   "outputs": [],
   "source": [
    "text = \"<html><body>Welcome to NLTK tutorials!</body></html>\"\n"
   ]
  },
  {
   "cell_type": "code",
   "execution_count": 62,
   "id": "57436d00",
   "metadata": {},
   "outputs": [],
   "source": [
    "import re"
   ]
  },
  {
   "cell_type": "code",
   "execution_count": 63,
   "id": "391d32ef",
   "metadata": {},
   "outputs": [],
   "source": [
    "d = re.sub(r'<.*?>','',text)"
   ]
  },
  {
   "cell_type": "code",
   "execution_count": 64,
   "id": "b8edce10",
   "metadata": {},
   "outputs": [
    {
     "data": {
      "text/plain": [
       "'Welcome to NLTK tutorials!'"
      ]
     },
     "execution_count": 64,
     "metadata": {},
     "output_type": "execute_result"
    }
   ],
   "source": [
    "d"
   ]
  },
  {
   "cell_type": "markdown",
   "id": "4ce4625f",
   "metadata": {},
   "source": [
    "Extract and remove any email addresses from the following text:"
   ]
  },
  {
   "cell_type": "code",
   "execution_count": 86,
   "id": "b42e562a",
   "metadata": {},
   "outputs": [],
   "source": [
    "text = \"Please contact us at support@example.com for further assistance.\"\n"
   ]
  },
  {
   "cell_type": "code",
   "execution_count": 89,
   "id": "9c7cb83f",
   "metadata": {},
   "outputs": [],
   "source": [
    "e = re.sub(r'[A-za-z0-9._%+-]+@+[A-Za-z0-9_.]+\\.[a-z]{2,}','',text)"
   ]
  },
  {
   "cell_type": "code",
   "execution_count": 90,
   "id": "37ce2c33",
   "metadata": {},
   "outputs": [
    {
     "data": {
      "text/plain": [
       "'Please contact us at  for further assistance.'"
      ]
     },
     "execution_count": 90,
     "metadata": {},
     "output_type": "execute_result"
    }
   ],
   "source": [
    "e"
   ]
  },
  {
   "cell_type": "markdown",
   "id": "bf481ebb",
   "metadata": {},
   "source": [
    "Extract and remove any URLs from the following text:"
   ]
  },
  {
   "cell_type": "code",
   "execution_count": 102,
   "id": "77d367bd",
   "metadata": {},
   "outputs": [],
   "source": [
    "text = \"Visit https://nltk.org for more information.\"\n"
   ]
  },
  {
   "cell_type": "code",
   "execution_count": 105,
   "id": "b166c59e",
   "metadata": {},
   "outputs": [],
   "source": [
    "f = re.sub(r'http[s]?://\\S+','',text)"
   ]
  },
  {
   "cell_type": "code",
   "execution_count": 106,
   "id": "778ef431",
   "metadata": {},
   "outputs": [
    {
     "data": {
      "text/plain": [
       "'Visit  for more information.'"
      ]
     },
     "execution_count": 106,
     "metadata": {},
     "output_type": "execute_result"
    }
   ],
   "source": [
    "f"
   ]
  },
  {
   "cell_type": "code",
   "execution_count": 108,
   "id": "8db73cb8",
   "metadata": {},
   "outputs": [
    {
     "name": "stdout",
     "output_type": "stream",
     "text": [
      "NLTK rocks for NLP preprocessing\n"
     ]
    }
   ],
   "source": [
    "text = \"NLTK@123 #rocks! for$ NLP&^ pre-processing.\"\n",
    "clean_text = re.sub(r\"[^a-zA-Z\\s]\", \"\", text)\n",
    "print(clean_text)"
   ]
  },
  {
   "cell_type": "code",
   "execution_count": null,
   "id": "41ba0b0b",
   "metadata": {},
   "outputs": [],
   "source": []
  }
 ],
 "metadata": {
  "kernelspec": {
   "display_name": "Python 3 (ipykernel)",
   "language": "python",
   "name": "python3"
  },
  "language_info": {
   "codemirror_mode": {
    "name": "ipython",
    "version": 3
   },
   "file_extension": ".py",
   "mimetype": "text/x-python",
   "name": "python",
   "nbconvert_exporter": "python",
   "pygments_lexer": "ipython3",
   "version": "3.9.13"
  }
 },
 "nbformat": 4,
 "nbformat_minor": 5
}
