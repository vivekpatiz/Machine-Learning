{
 "cells": [
  {
   "cell_type": "code",
   "execution_count": 148,
   "id": "e3386119",
   "metadata": {},
   "outputs": [],
   "source": [
    "import pandas as pd\n",
    "import numpy as np\n",
    "import matplotlib.pyplot as plt\n",
    "import seaborn as sns\n",
    "from sklearn.model_selection import train_test_split\n",
    "from sklearn.linear_model import LinearRegression\n",
    "from sklearn.metrics import mean_squared_error, r2_score\n",
    "import re"
   ]
  },
  {
   "cell_type": "code",
   "execution_count": 149,
   "id": "4f245705",
   "metadata": {},
   "outputs": [],
   "source": [
    "data = pd.read_excel(\"innercity.xlsx\")"
   ]
  },
  {
   "cell_type": "code",
   "execution_count": 150,
   "id": "c52aadbd",
   "metadata": {},
   "outputs": [
    {
     "data": {
      "text/plain": [
       "(21613, 23)"
      ]
     },
     "execution_count": 150,
     "metadata": {},
     "output_type": "execute_result"
    }
   ],
   "source": [
    "data.shape"
   ]
  },
  {
   "cell_type": "code",
   "execution_count": 151,
   "id": "af65cea4",
   "metadata": {},
   "outputs": [
    {
     "data": {
      "text/html": [
       "<div>\n",
       "<style scoped>\n",
       "    .dataframe tbody tr th:only-of-type {\n",
       "        vertical-align: middle;\n",
       "    }\n",
       "\n",
       "    .dataframe tbody tr th {\n",
       "        vertical-align: top;\n",
       "    }\n",
       "\n",
       "    .dataframe thead th {\n",
       "        text-align: right;\n",
       "    }\n",
       "</style>\n",
       "<table border=\"1\" class=\"dataframe\">\n",
       "  <thead>\n",
       "    <tr style=\"text-align: right;\">\n",
       "      <th></th>\n",
       "      <th>cid</th>\n",
       "      <th>dayhours</th>\n",
       "      <th>price</th>\n",
       "      <th>room_bed</th>\n",
       "      <th>room_bath</th>\n",
       "      <th>living_measure</th>\n",
       "      <th>lot_measure</th>\n",
       "      <th>ceil</th>\n",
       "      <th>coast</th>\n",
       "      <th>sight</th>\n",
       "      <th>...</th>\n",
       "      <th>basement</th>\n",
       "      <th>yr_built</th>\n",
       "      <th>yr_renovated</th>\n",
       "      <th>zipcode</th>\n",
       "      <th>lat</th>\n",
       "      <th>long</th>\n",
       "      <th>living_measure15</th>\n",
       "      <th>lot_measure15</th>\n",
       "      <th>furnished</th>\n",
       "      <th>total_area</th>\n",
       "    </tr>\n",
       "  </thead>\n",
       "  <tbody>\n",
       "    <tr>\n",
       "      <th>0</th>\n",
       "      <td>3876100940</td>\n",
       "      <td>20150427T000000</td>\n",
       "      <td>600000</td>\n",
       "      <td>4.0</td>\n",
       "      <td>1.75</td>\n",
       "      <td>3050.0</td>\n",
       "      <td>9440.0</td>\n",
       "      <td>1</td>\n",
       "      <td>0</td>\n",
       "      <td>0.0</td>\n",
       "      <td>...</td>\n",
       "      <td>1250.0</td>\n",
       "      <td>1966</td>\n",
       "      <td>0</td>\n",
       "      <td>98034</td>\n",
       "      <td>47.7228</td>\n",
       "      <td>-122.183</td>\n",
       "      <td>2020.0</td>\n",
       "      <td>8660.0</td>\n",
       "      <td>0.0</td>\n",
       "      <td>12490</td>\n",
       "    </tr>\n",
       "    <tr>\n",
       "      <th>1</th>\n",
       "      <td>3145600250</td>\n",
       "      <td>20150317T000000</td>\n",
       "      <td>190000</td>\n",
       "      <td>2.0</td>\n",
       "      <td>1.00</td>\n",
       "      <td>670.0</td>\n",
       "      <td>3101.0</td>\n",
       "      <td>1</td>\n",
       "      <td>0</td>\n",
       "      <td>0.0</td>\n",
       "      <td>...</td>\n",
       "      <td>0.0</td>\n",
       "      <td>1948</td>\n",
       "      <td>0</td>\n",
       "      <td>98118</td>\n",
       "      <td>47.5546</td>\n",
       "      <td>-122.274</td>\n",
       "      <td>1660.0</td>\n",
       "      <td>4100.0</td>\n",
       "      <td>0.0</td>\n",
       "      <td>3771</td>\n",
       "    </tr>\n",
       "    <tr>\n",
       "      <th>2</th>\n",
       "      <td>7129303070</td>\n",
       "      <td>20140820T000000</td>\n",
       "      <td>735000</td>\n",
       "      <td>4.0</td>\n",
       "      <td>2.75</td>\n",
       "      <td>3040.0</td>\n",
       "      <td>2415.0</td>\n",
       "      <td>2</td>\n",
       "      <td>1</td>\n",
       "      <td>4.0</td>\n",
       "      <td>...</td>\n",
       "      <td>0.0</td>\n",
       "      <td>1966</td>\n",
       "      <td>0</td>\n",
       "      <td>98118</td>\n",
       "      <td>47.5188</td>\n",
       "      <td>-122.256</td>\n",
       "      <td>2620.0</td>\n",
       "      <td>2433.0</td>\n",
       "      <td>0.0</td>\n",
       "      <td>5455</td>\n",
       "    </tr>\n",
       "    <tr>\n",
       "      <th>3</th>\n",
       "      <td>7338220280</td>\n",
       "      <td>20141010T000000</td>\n",
       "      <td>257000</td>\n",
       "      <td>3.0</td>\n",
       "      <td>2.50</td>\n",
       "      <td>1740.0</td>\n",
       "      <td>3721.0</td>\n",
       "      <td>2</td>\n",
       "      <td>0</td>\n",
       "      <td>0.0</td>\n",
       "      <td>...</td>\n",
       "      <td>0.0</td>\n",
       "      <td>2009</td>\n",
       "      <td>0</td>\n",
       "      <td>98002</td>\n",
       "      <td>47.3363</td>\n",
       "      <td>-122.213</td>\n",
       "      <td>2030.0</td>\n",
       "      <td>3794.0</td>\n",
       "      <td>0.0</td>\n",
       "      <td>5461</td>\n",
       "    </tr>\n",
       "    <tr>\n",
       "      <th>4</th>\n",
       "      <td>7950300670</td>\n",
       "      <td>20150218T000000</td>\n",
       "      <td>450000</td>\n",
       "      <td>2.0</td>\n",
       "      <td>1.00</td>\n",
       "      <td>1120.0</td>\n",
       "      <td>4590.0</td>\n",
       "      <td>1</td>\n",
       "      <td>0</td>\n",
       "      <td>0.0</td>\n",
       "      <td>...</td>\n",
       "      <td>0.0</td>\n",
       "      <td>1924</td>\n",
       "      <td>0</td>\n",
       "      <td>98118</td>\n",
       "      <td>47.5663</td>\n",
       "      <td>-122.285</td>\n",
       "      <td>1120.0</td>\n",
       "      <td>5100.0</td>\n",
       "      <td>0.0</td>\n",
       "      <td>5710</td>\n",
       "    </tr>\n",
       "  </tbody>\n",
       "</table>\n",
       "<p>5 rows × 23 columns</p>\n",
       "</div>"
      ],
      "text/plain": [
       "          cid         dayhours   price  room_bed  room_bath  living_measure  \\\n",
       "0  3876100940  20150427T000000  600000       4.0       1.75          3050.0   \n",
       "1  3145600250  20150317T000000  190000       2.0       1.00           670.0   \n",
       "2  7129303070  20140820T000000  735000       4.0       2.75          3040.0   \n",
       "3  7338220280  20141010T000000  257000       3.0       2.50          1740.0   \n",
       "4  7950300670  20150218T000000  450000       2.0       1.00          1120.0   \n",
       "\n",
       "   lot_measure ceil coast  sight  ... basement  yr_built  yr_renovated  \\\n",
       "0       9440.0    1     0    0.0  ...   1250.0      1966             0   \n",
       "1       3101.0    1     0    0.0  ...      0.0      1948             0   \n",
       "2       2415.0    2     1    4.0  ...      0.0      1966             0   \n",
       "3       3721.0    2     0    0.0  ...      0.0      2009             0   \n",
       "4       4590.0    1     0    0.0  ...      0.0      1924             0   \n",
       "\n",
       "   zipcode      lat     long  living_measure15  lot_measure15 furnished  \\\n",
       "0    98034  47.7228 -122.183            2020.0         8660.0       0.0   \n",
       "1    98118  47.5546 -122.274            1660.0         4100.0       0.0   \n",
       "2    98118  47.5188 -122.256            2620.0         2433.0       0.0   \n",
       "3    98002  47.3363 -122.213            2030.0         3794.0       0.0   \n",
       "4    98118  47.5663 -122.285            1120.0         5100.0       0.0   \n",
       "\n",
       "   total_area  \n",
       "0       12490  \n",
       "1        3771  \n",
       "2        5455  \n",
       "3        5461  \n",
       "4        5710  \n",
       "\n",
       "[5 rows x 23 columns]"
      ]
     },
     "execution_count": 151,
     "metadata": {},
     "output_type": "execute_result"
    }
   ],
   "source": [
    "data.head()"
   ]
  },
  {
   "cell_type": "code",
   "execution_count": 152,
   "id": "08b924b4",
   "metadata": {},
   "outputs": [
    {
     "name": "stdout",
     "output_type": "stream",
     "text": [
      "<class 'pandas.core.frame.DataFrame'>\n",
      "RangeIndex: 21613 entries, 0 to 21612\n",
      "Data columns (total 23 columns):\n",
      " #   Column            Non-Null Count  Dtype  \n",
      "---  ------            --------------  -----  \n",
      " 0   cid               21613 non-null  int64  \n",
      " 1   dayhours          21613 non-null  object \n",
      " 2   price             21613 non-null  int64  \n",
      " 3   room_bed          21505 non-null  float64\n",
      " 4   room_bath         21505 non-null  float64\n",
      " 5   living_measure    21596 non-null  float64\n",
      " 6   lot_measure       21571 non-null  float64\n",
      " 7   ceil              21571 non-null  object \n",
      " 8   coast             21612 non-null  object \n",
      " 9   sight             21556 non-null  float64\n",
      " 10  condition         21556 non-null  object \n",
      " 11  quality           21612 non-null  float64\n",
      " 12  ceil_measure      21612 non-null  float64\n",
      " 13  basement          21612 non-null  float64\n",
      " 14  yr_built          21612 non-null  object \n",
      " 15  yr_renovated      21613 non-null  int64  \n",
      " 16  zipcode           21613 non-null  int64  \n",
      " 17  lat               21613 non-null  float64\n",
      " 18  long              21613 non-null  object \n",
      " 19  living_measure15  21447 non-null  float64\n",
      " 20  lot_measure15     21584 non-null  float64\n",
      " 21  furnished         21584 non-null  float64\n",
      " 22  total_area        21584 non-null  object \n",
      "dtypes: float64(12), int64(4), object(7)\n",
      "memory usage: 3.8+ MB\n"
     ]
    }
   ],
   "source": [
    "data.info()"
   ]
  },
  {
   "cell_type": "markdown",
   "id": "c50bcd96",
   "metadata": {},
   "source": [
    "## Data Cleaning"
   ]
  },
  {
   "cell_type": "code",
   "execution_count": 153,
   "id": "02e6e099",
   "metadata": {},
   "outputs": [],
   "source": [
    "data = data[~data.apply(lambda row: row.astype(str).str.contains('$', regex=False)).any(axis=1)]"
   ]
  },
  {
   "cell_type": "code",
   "execution_count": 154,
   "id": "4c6f15a9",
   "metadata": {},
   "outputs": [
    {
     "data": {
      "text/plain": [
       "cid                   0\n",
       "dayhours              0\n",
       "price                 0\n",
       "room_bed             66\n",
       "room_bath            66\n",
       "living_measure       17\n",
       "lot_measure          42\n",
       "ceil                 42\n",
       "coast                 1\n",
       "sight                57\n",
       "condition            57\n",
       "quality               1\n",
       "ceil_measure          1\n",
       "basement              1\n",
       "yr_built              1\n",
       "yr_renovated          0\n",
       "zipcode               0\n",
       "lat                   0\n",
       "long                  0\n",
       "living_measure15    124\n",
       "lot_measure15        29\n",
       "furnished            29\n",
       "total_area           29\n",
       "dtype: int64"
      ]
     },
     "execution_count": 154,
     "metadata": {},
     "output_type": "execute_result"
    }
   ],
   "source": [
    "# to check the number of null values \n",
    "pd.isnull(data).sum()"
   ]
  },
  {
   "cell_type": "code",
   "execution_count": 155,
   "id": "50194f33",
   "metadata": {},
   "outputs": [],
   "source": [
    "# Remove rows with any null values\n",
    "data = data.dropna()"
   ]
  },
  {
   "cell_type": "code",
   "execution_count": 156,
   "id": "398f1dcf",
   "metadata": {},
   "outputs": [
    {
     "data": {
      "text/plain": [
       "cid                 0\n",
       "dayhours            0\n",
       "price               0\n",
       "room_bed            0\n",
       "room_bath           0\n",
       "living_measure      0\n",
       "lot_measure         0\n",
       "ceil                0\n",
       "coast               0\n",
       "sight               0\n",
       "condition           0\n",
       "quality             0\n",
       "ceil_measure        0\n",
       "basement            0\n",
       "yr_built            0\n",
       "yr_renovated        0\n",
       "zipcode             0\n",
       "lat                 0\n",
       "long                0\n",
       "living_measure15    0\n",
       "lot_measure15       0\n",
       "furnished           0\n",
       "total_area          0\n",
       "dtype: int64"
      ]
     },
     "execution_count": 156,
     "metadata": {},
     "output_type": "execute_result"
    }
   ],
   "source": [
    "# Verify that null values have been removed\n",
    "pd.isnull(data).sum()"
   ]
  },
  {
   "cell_type": "code",
   "execution_count": 157,
   "id": "bdf35612",
   "metadata": {},
   "outputs": [
    {
     "data": {
      "text/plain": [
       "(21288, 23)"
      ]
     },
     "execution_count": 157,
     "metadata": {},
     "output_type": "execute_result"
    }
   ],
   "source": [
    "# check the column and rows \n",
    "data.shape"
   ]
  },
  {
   "cell_type": "markdown",
   "id": "96c6a481",
   "metadata": {},
   "source": [
    "## Convert 'dayhours' coloumn to datetime"
   ]
  },
  {
   "cell_type": "code",
   "execution_count": 158,
   "id": "11e3e5a4",
   "metadata": {},
   "outputs": [],
   "source": [
    "# Convert 'dayhours' column to datetime\n",
    "data['dayhours'] = pd.to_datetime(data['dayhours'])\n",
    "\n",
    "# Extract relevant features (e.g., year, month, day, and hour)\n",
    "data['year'] = data['dayhours'].dt.year\n",
    "data['month'] = data['dayhours'].dt.month\n",
    "data['day'] = data['dayhours'].dt.day\n",
    "data['hour'] = data['dayhours'].dt.hour"
   ]
  },
  {
   "cell_type": "code",
   "execution_count": 159,
   "id": "a29dad40",
   "metadata": {},
   "outputs": [],
   "source": [
    "# Remove the original 'dayhours' column\n",
    "data = data.drop(columns=['dayhours'])"
   ]
  },
  {
   "cell_type": "code",
   "execution_count": 160,
   "id": "44406086",
   "metadata": {},
   "outputs": [],
   "source": [
    "# Drop 'cid' column\n",
    "data = data.drop(columns=['cid'])"
   ]
  },
  {
   "cell_type": "code",
   "execution_count": 161,
   "id": "479d52f7",
   "metadata": {},
   "outputs": [
    {
     "data": {
      "text/plain": [
       "(21288, 25)"
      ]
     },
     "execution_count": 161,
     "metadata": {},
     "output_type": "execute_result"
    }
   ],
   "source": [
    "# check the column and rows \n",
    "data.shape"
   ]
  },
  {
   "cell_type": "code",
   "execution_count": 162,
   "id": "0e4d24d0",
   "metadata": {},
   "outputs": [
    {
     "name": "stdout",
     "output_type": "stream",
     "text": [
      "<class 'pandas.core.frame.DataFrame'>\n",
      "Index: 21288 entries, 0 to 21612\n",
      "Data columns (total 25 columns):\n",
      " #   Column            Non-Null Count  Dtype  \n",
      "---  ------            --------------  -----  \n",
      " 0   price             21288 non-null  int64  \n",
      " 1   room_bed          21288 non-null  float64\n",
      " 2   room_bath         21288 non-null  float64\n",
      " 3   living_measure    21288 non-null  float64\n",
      " 4   lot_measure       21288 non-null  float64\n",
      " 5   ceil              21288 non-null  object \n",
      " 6   coast             21288 non-null  object \n",
      " 7   sight             21288 non-null  float64\n",
      " 8   condition         21288 non-null  object \n",
      " 9   quality           21288 non-null  float64\n",
      " 10  ceil_measure      21288 non-null  float64\n",
      " 11  basement          21288 non-null  float64\n",
      " 12  yr_built          21288 non-null  object \n",
      " 13  yr_renovated      21288 non-null  int64  \n",
      " 14  zipcode           21288 non-null  int64  \n",
      " 15  lat               21288 non-null  float64\n",
      " 16  long              21288 non-null  object \n",
      " 17  living_measure15  21288 non-null  float64\n",
      " 18  lot_measure15     21288 non-null  float64\n",
      " 19  furnished         21288 non-null  float64\n",
      " 20  total_area        21288 non-null  object \n",
      " 21  year              21288 non-null  int32  \n",
      " 22  month             21288 non-null  int32  \n",
      " 23  day               21288 non-null  int32  \n",
      " 24  hour              21288 non-null  int32  \n",
      "dtypes: float64(12), int32(4), int64(3), object(6)\n",
      "memory usage: 3.9+ MB\n"
     ]
    }
   ],
   "source": [
    "# to check the column dattype non-null and count also unused column\n",
    "data.info()"
   ]
  },
  {
   "cell_type": "code",
   "execution_count": 163,
   "id": "c28897ee",
   "metadata": {},
   "outputs": [
    {
     "data": {
      "text/html": [
       "<div>\n",
       "<style scoped>\n",
       "    .dataframe tbody tr th:only-of-type {\n",
       "        vertical-align: middle;\n",
       "    }\n",
       "\n",
       "    .dataframe tbody tr th {\n",
       "        vertical-align: top;\n",
       "    }\n",
       "\n",
       "    .dataframe thead th {\n",
       "        text-align: right;\n",
       "    }\n",
       "</style>\n",
       "<table border=\"1\" class=\"dataframe\">\n",
       "  <thead>\n",
       "    <tr style=\"text-align: right;\">\n",
       "      <th></th>\n",
       "      <th>price</th>\n",
       "      <th>room_bed</th>\n",
       "      <th>room_bath</th>\n",
       "      <th>living_measure</th>\n",
       "      <th>lot_measure</th>\n",
       "      <th>ceil</th>\n",
       "      <th>coast</th>\n",
       "      <th>sight</th>\n",
       "      <th>condition</th>\n",
       "      <th>quality</th>\n",
       "      <th>...</th>\n",
       "      <th>lat</th>\n",
       "      <th>long</th>\n",
       "      <th>living_measure15</th>\n",
       "      <th>lot_measure15</th>\n",
       "      <th>furnished</th>\n",
       "      <th>total_area</th>\n",
       "      <th>year</th>\n",
       "      <th>month</th>\n",
       "      <th>day</th>\n",
       "      <th>hour</th>\n",
       "    </tr>\n",
       "  </thead>\n",
       "  <tbody>\n",
       "    <tr>\n",
       "      <th>0</th>\n",
       "      <td>600000</td>\n",
       "      <td>4.0</td>\n",
       "      <td>1.75</td>\n",
       "      <td>3050.0</td>\n",
       "      <td>9440.0</td>\n",
       "      <td>1</td>\n",
       "      <td>0</td>\n",
       "      <td>0.0</td>\n",
       "      <td>3</td>\n",
       "      <td>8.0</td>\n",
       "      <td>...</td>\n",
       "      <td>47.7228</td>\n",
       "      <td>-122.183</td>\n",
       "      <td>2020.0</td>\n",
       "      <td>8660.0</td>\n",
       "      <td>0.0</td>\n",
       "      <td>12490</td>\n",
       "      <td>2015</td>\n",
       "      <td>4</td>\n",
       "      <td>27</td>\n",
       "      <td>0</td>\n",
       "    </tr>\n",
       "    <tr>\n",
       "      <th>1</th>\n",
       "      <td>190000</td>\n",
       "      <td>2.0</td>\n",
       "      <td>1.00</td>\n",
       "      <td>670.0</td>\n",
       "      <td>3101.0</td>\n",
       "      <td>1</td>\n",
       "      <td>0</td>\n",
       "      <td>0.0</td>\n",
       "      <td>4</td>\n",
       "      <td>6.0</td>\n",
       "      <td>...</td>\n",
       "      <td>47.5546</td>\n",
       "      <td>-122.274</td>\n",
       "      <td>1660.0</td>\n",
       "      <td>4100.0</td>\n",
       "      <td>0.0</td>\n",
       "      <td>3771</td>\n",
       "      <td>2015</td>\n",
       "      <td>3</td>\n",
       "      <td>17</td>\n",
       "      <td>0</td>\n",
       "    </tr>\n",
       "    <tr>\n",
       "      <th>2</th>\n",
       "      <td>735000</td>\n",
       "      <td>4.0</td>\n",
       "      <td>2.75</td>\n",
       "      <td>3040.0</td>\n",
       "      <td>2415.0</td>\n",
       "      <td>2</td>\n",
       "      <td>1</td>\n",
       "      <td>4.0</td>\n",
       "      <td>3</td>\n",
       "      <td>8.0</td>\n",
       "      <td>...</td>\n",
       "      <td>47.5188</td>\n",
       "      <td>-122.256</td>\n",
       "      <td>2620.0</td>\n",
       "      <td>2433.0</td>\n",
       "      <td>0.0</td>\n",
       "      <td>5455</td>\n",
       "      <td>2014</td>\n",
       "      <td>8</td>\n",
       "      <td>20</td>\n",
       "      <td>0</td>\n",
       "    </tr>\n",
       "    <tr>\n",
       "      <th>3</th>\n",
       "      <td>257000</td>\n",
       "      <td>3.0</td>\n",
       "      <td>2.50</td>\n",
       "      <td>1740.0</td>\n",
       "      <td>3721.0</td>\n",
       "      <td>2</td>\n",
       "      <td>0</td>\n",
       "      <td>0.0</td>\n",
       "      <td>3</td>\n",
       "      <td>8.0</td>\n",
       "      <td>...</td>\n",
       "      <td>47.3363</td>\n",
       "      <td>-122.213</td>\n",
       "      <td>2030.0</td>\n",
       "      <td>3794.0</td>\n",
       "      <td>0.0</td>\n",
       "      <td>5461</td>\n",
       "      <td>2014</td>\n",
       "      <td>10</td>\n",
       "      <td>10</td>\n",
       "      <td>0</td>\n",
       "    </tr>\n",
       "    <tr>\n",
       "      <th>4</th>\n",
       "      <td>450000</td>\n",
       "      <td>2.0</td>\n",
       "      <td>1.00</td>\n",
       "      <td>1120.0</td>\n",
       "      <td>4590.0</td>\n",
       "      <td>1</td>\n",
       "      <td>0</td>\n",
       "      <td>0.0</td>\n",
       "      <td>3</td>\n",
       "      <td>7.0</td>\n",
       "      <td>...</td>\n",
       "      <td>47.5663</td>\n",
       "      <td>-122.285</td>\n",
       "      <td>1120.0</td>\n",
       "      <td>5100.0</td>\n",
       "      <td>0.0</td>\n",
       "      <td>5710</td>\n",
       "      <td>2015</td>\n",
       "      <td>2</td>\n",
       "      <td>18</td>\n",
       "      <td>0</td>\n",
       "    </tr>\n",
       "  </tbody>\n",
       "</table>\n",
       "<p>5 rows × 25 columns</p>\n",
       "</div>"
      ],
      "text/plain": [
       "    price  room_bed  room_bath  living_measure  lot_measure ceil coast  sight  \\\n",
       "0  600000       4.0       1.75          3050.0       9440.0    1     0    0.0   \n",
       "1  190000       2.0       1.00           670.0       3101.0    1     0    0.0   \n",
       "2  735000       4.0       2.75          3040.0       2415.0    2     1    4.0   \n",
       "3  257000       3.0       2.50          1740.0       3721.0    2     0    0.0   \n",
       "4  450000       2.0       1.00          1120.0       4590.0    1     0    0.0   \n",
       "\n",
       "  condition  quality  ...      lat     long living_measure15  lot_measure15  \\\n",
       "0         3      8.0  ...  47.7228 -122.183           2020.0         8660.0   \n",
       "1         4      6.0  ...  47.5546 -122.274           1660.0         4100.0   \n",
       "2         3      8.0  ...  47.5188 -122.256           2620.0         2433.0   \n",
       "3         3      8.0  ...  47.3363 -122.213           2030.0         3794.0   \n",
       "4         3      7.0  ...  47.5663 -122.285           1120.0         5100.0   \n",
       "\n",
       "   furnished  total_area  year  month  day  hour  \n",
       "0        0.0       12490  2015      4   27     0  \n",
       "1        0.0        3771  2015      3   17     0  \n",
       "2        0.0        5455  2014      8   20     0  \n",
       "3        0.0        5461  2014     10   10     0  \n",
       "4        0.0        5710  2015      2   18     0  \n",
       "\n",
       "[5 rows x 25 columns]"
      ]
     },
     "execution_count": 163,
     "metadata": {},
     "output_type": "execute_result"
    }
   ],
   "source": [
    "# toprows with head after cleaning \n",
    "data.head()"
   ]
  },
  {
   "cell_type": "markdown",
   "id": "4a05f24d",
   "metadata": {},
   "source": [
    "## Check the duplicate values if any"
   ]
  },
  {
   "cell_type": "code",
   "execution_count": 164,
   "id": "8f2b3fc3",
   "metadata": {},
   "outputs": [
    {
     "name": "stdout",
     "output_type": "stream",
     "text": [
      "Empty DataFrame\n",
      "Columns: [price, room_bed, room_bath, living_measure, lot_measure, ceil, coast, sight, condition, quality, ceil_measure, basement, yr_built, yr_renovated, zipcode, lat, long, living_measure15, lot_measure15, furnished, total_area, year, month, day, hour]\n",
      "Index: []\n",
      "\n",
      "[0 rows x 25 columns]\n"
     ]
    }
   ],
   "source": [
    "# Find and display duplicate rows based on all columns\n",
    "duplicates = data[data.duplicated(keep=False)]\n",
    "print(duplicates)"
   ]
  },
  {
   "cell_type": "code",
   "execution_count": 165,
   "id": "c3cbb6bb",
   "metadata": {},
   "outputs": [
    {
     "data": {
      "text/html": [
       "<div>\n",
       "<style scoped>\n",
       "    .dataframe tbody tr th:only-of-type {\n",
       "        vertical-align: middle;\n",
       "    }\n",
       "\n",
       "    .dataframe tbody tr th {\n",
       "        vertical-align: top;\n",
       "    }\n",
       "\n",
       "    .dataframe thead th {\n",
       "        text-align: right;\n",
       "    }\n",
       "</style>\n",
       "<table border=\"1\" class=\"dataframe\">\n",
       "  <thead>\n",
       "    <tr style=\"text-align: right;\">\n",
       "      <th></th>\n",
       "      <th>price</th>\n",
       "      <th>room_bed</th>\n",
       "      <th>room_bath</th>\n",
       "      <th>living_measure</th>\n",
       "      <th>lot_measure</th>\n",
       "      <th>sight</th>\n",
       "      <th>quality</th>\n",
       "      <th>ceil_measure</th>\n",
       "      <th>basement</th>\n",
       "      <th>yr_renovated</th>\n",
       "      <th>zipcode</th>\n",
       "      <th>lat</th>\n",
       "      <th>living_measure15</th>\n",
       "      <th>lot_measure15</th>\n",
       "      <th>furnished</th>\n",
       "      <th>year</th>\n",
       "      <th>month</th>\n",
       "      <th>day</th>\n",
       "      <th>hour</th>\n",
       "    </tr>\n",
       "  </thead>\n",
       "  <tbody>\n",
       "    <tr>\n",
       "      <th>count</th>\n",
       "      <td>2.128800e+04</td>\n",
       "      <td>21288.000000</td>\n",
       "      <td>21288.000000</td>\n",
       "      <td>21288.000000</td>\n",
       "      <td>2.128800e+04</td>\n",
       "      <td>21288.000000</td>\n",
       "      <td>21288.000000</td>\n",
       "      <td>21288.000000</td>\n",
       "      <td>21288.000000</td>\n",
       "      <td>21288.000000</td>\n",
       "      <td>21288.000000</td>\n",
       "      <td>21288.000000</td>\n",
       "      <td>21288.000000</td>\n",
       "      <td>21288.000000</td>\n",
       "      <td>21288.000000</td>\n",
       "      <td>21288.000000</td>\n",
       "      <td>21288.000000</td>\n",
       "      <td>21288.000000</td>\n",
       "      <td>21288.0</td>\n",
       "    </tr>\n",
       "    <tr>\n",
       "      <th>mean</th>\n",
       "      <td>5.399826e+05</td>\n",
       "      <td>3.370678</td>\n",
       "      <td>2.114395</td>\n",
       "      <td>2080.089346</td>\n",
       "      <td>1.510815e+04</td>\n",
       "      <td>0.234216</td>\n",
       "      <td>7.657976</td>\n",
       "      <td>1788.949267</td>\n",
       "      <td>291.140079</td>\n",
       "      <td>83.721768</td>\n",
       "      <td>98077.916808</td>\n",
       "      <td>47.559996</td>\n",
       "      <td>1987.143414</td>\n",
       "      <td>12761.672773</td>\n",
       "      <td>0.197059</td>\n",
       "      <td>2014.323046</td>\n",
       "      <td>6.571308</td>\n",
       "      <td>15.682497</td>\n",
       "      <td>0.0</td>\n",
       "    </tr>\n",
       "    <tr>\n",
       "      <th>std</th>\n",
       "      <td>3.656028e+05</td>\n",
       "      <td>0.930123</td>\n",
       "      <td>0.768666</td>\n",
       "      <td>917.696381</td>\n",
       "      <td>4.142870e+04</td>\n",
       "      <td>0.765875</td>\n",
       "      <td>1.176386</td>\n",
       "      <td>827.586143</td>\n",
       "      <td>442.475889</td>\n",
       "      <td>400.127640</td>\n",
       "      <td>53.514731</td>\n",
       "      <td>0.138578</td>\n",
       "      <td>685.795270</td>\n",
       "      <td>27254.999989</td>\n",
       "      <td>0.397787</td>\n",
       "      <td>0.467651</td>\n",
       "      <td>3.114587</td>\n",
       "      <td>8.631272</td>\n",
       "      <td>0.0</td>\n",
       "    </tr>\n",
       "    <tr>\n",
       "      <th>min</th>\n",
       "      <td>7.500000e+04</td>\n",
       "      <td>0.000000</td>\n",
       "      <td>0.000000</td>\n",
       "      <td>290.000000</td>\n",
       "      <td>5.200000e+02</td>\n",
       "      <td>0.000000</td>\n",
       "      <td>1.000000</td>\n",
       "      <td>290.000000</td>\n",
       "      <td>0.000000</td>\n",
       "      <td>0.000000</td>\n",
       "      <td>98001.000000</td>\n",
       "      <td>47.155900</td>\n",
       "      <td>399.000000</td>\n",
       "      <td>651.000000</td>\n",
       "      <td>0.000000</td>\n",
       "      <td>2014.000000</td>\n",
       "      <td>1.000000</td>\n",
       "      <td>1.000000</td>\n",
       "      <td>0.0</td>\n",
       "    </tr>\n",
       "    <tr>\n",
       "      <th>25%</th>\n",
       "      <td>3.210202e+05</td>\n",
       "      <td>3.000000</td>\n",
       "      <td>1.750000</td>\n",
       "      <td>1430.000000</td>\n",
       "      <td>5.040000e+03</td>\n",
       "      <td>0.000000</td>\n",
       "      <td>7.000000</td>\n",
       "      <td>1190.000000</td>\n",
       "      <td>0.000000</td>\n",
       "      <td>0.000000</td>\n",
       "      <td>98033.000000</td>\n",
       "      <td>47.470675</td>\n",
       "      <td>1490.000000</td>\n",
       "      <td>5100.000000</td>\n",
       "      <td>0.000000</td>\n",
       "      <td>2014.000000</td>\n",
       "      <td>4.000000</td>\n",
       "      <td>8.000000</td>\n",
       "      <td>0.0</td>\n",
       "    </tr>\n",
       "    <tr>\n",
       "      <th>50%</th>\n",
       "      <td>4.500000e+05</td>\n",
       "      <td>3.000000</td>\n",
       "      <td>2.250000</td>\n",
       "      <td>1910.000000</td>\n",
       "      <td>7.620000e+03</td>\n",
       "      <td>0.000000</td>\n",
       "      <td>7.000000</td>\n",
       "      <td>1560.000000</td>\n",
       "      <td>0.000000</td>\n",
       "      <td>0.000000</td>\n",
       "      <td>98065.000000</td>\n",
       "      <td>47.571700</td>\n",
       "      <td>1840.000000</td>\n",
       "      <td>7620.000000</td>\n",
       "      <td>0.000000</td>\n",
       "      <td>2014.000000</td>\n",
       "      <td>6.000000</td>\n",
       "      <td>16.000000</td>\n",
       "      <td>0.0</td>\n",
       "    </tr>\n",
       "    <tr>\n",
       "      <th>75%</th>\n",
       "      <td>6.450000e+05</td>\n",
       "      <td>4.000000</td>\n",
       "      <td>2.500000</td>\n",
       "      <td>2550.000000</td>\n",
       "      <td>1.068250e+04</td>\n",
       "      <td>0.000000</td>\n",
       "      <td>8.000000</td>\n",
       "      <td>2210.000000</td>\n",
       "      <td>560.000000</td>\n",
       "      <td>0.000000</td>\n",
       "      <td>98118.000000</td>\n",
       "      <td>47.677925</td>\n",
       "      <td>2360.000000</td>\n",
       "      <td>10083.000000</td>\n",
       "      <td>0.000000</td>\n",
       "      <td>2015.000000</td>\n",
       "      <td>9.000000</td>\n",
       "      <td>23.000000</td>\n",
       "      <td>0.0</td>\n",
       "    </tr>\n",
       "    <tr>\n",
       "      <th>max</th>\n",
       "      <td>7.700000e+06</td>\n",
       "      <td>33.000000</td>\n",
       "      <td>8.000000</td>\n",
       "      <td>13540.000000</td>\n",
       "      <td>1.651359e+06</td>\n",
       "      <td>4.000000</td>\n",
       "      <td>13.000000</td>\n",
       "      <td>9410.000000</td>\n",
       "      <td>4820.000000</td>\n",
       "      <td>2015.000000</td>\n",
       "      <td>98199.000000</td>\n",
       "      <td>47.777600</td>\n",
       "      <td>6210.000000</td>\n",
       "      <td>871200.000000</td>\n",
       "      <td>1.000000</td>\n",
       "      <td>2015.000000</td>\n",
       "      <td>12.000000</td>\n",
       "      <td>31.000000</td>\n",
       "      <td>0.0</td>\n",
       "    </tr>\n",
       "  </tbody>\n",
       "</table>\n",
       "</div>"
      ],
      "text/plain": [
       "              price      room_bed     room_bath  living_measure   lot_measure  \\\n",
       "count  2.128800e+04  21288.000000  21288.000000    21288.000000  2.128800e+04   \n",
       "mean   5.399826e+05      3.370678      2.114395     2080.089346  1.510815e+04   \n",
       "std    3.656028e+05      0.930123      0.768666      917.696381  4.142870e+04   \n",
       "min    7.500000e+04      0.000000      0.000000      290.000000  5.200000e+02   \n",
       "25%    3.210202e+05      3.000000      1.750000     1430.000000  5.040000e+03   \n",
       "50%    4.500000e+05      3.000000      2.250000     1910.000000  7.620000e+03   \n",
       "75%    6.450000e+05      4.000000      2.500000     2550.000000  1.068250e+04   \n",
       "max    7.700000e+06     33.000000      8.000000    13540.000000  1.651359e+06   \n",
       "\n",
       "              sight       quality  ceil_measure      basement  yr_renovated  \\\n",
       "count  21288.000000  21288.000000  21288.000000  21288.000000  21288.000000   \n",
       "mean       0.234216      7.657976   1788.949267    291.140079     83.721768   \n",
       "std        0.765875      1.176386    827.586143    442.475889    400.127640   \n",
       "min        0.000000      1.000000    290.000000      0.000000      0.000000   \n",
       "25%        0.000000      7.000000   1190.000000      0.000000      0.000000   \n",
       "50%        0.000000      7.000000   1560.000000      0.000000      0.000000   \n",
       "75%        0.000000      8.000000   2210.000000    560.000000      0.000000   \n",
       "max        4.000000     13.000000   9410.000000   4820.000000   2015.000000   \n",
       "\n",
       "            zipcode           lat  living_measure15  lot_measure15  \\\n",
       "count  21288.000000  21288.000000      21288.000000   21288.000000   \n",
       "mean   98077.916808     47.559996       1987.143414   12761.672773   \n",
       "std       53.514731      0.138578        685.795270   27254.999989   \n",
       "min    98001.000000     47.155900        399.000000     651.000000   \n",
       "25%    98033.000000     47.470675       1490.000000    5100.000000   \n",
       "50%    98065.000000     47.571700       1840.000000    7620.000000   \n",
       "75%    98118.000000     47.677925       2360.000000   10083.000000   \n",
       "max    98199.000000     47.777600       6210.000000  871200.000000   \n",
       "\n",
       "          furnished          year         month           day     hour  \n",
       "count  21288.000000  21288.000000  21288.000000  21288.000000  21288.0  \n",
       "mean       0.197059   2014.323046      6.571308     15.682497      0.0  \n",
       "std        0.397787      0.467651      3.114587      8.631272      0.0  \n",
       "min        0.000000   2014.000000      1.000000      1.000000      0.0  \n",
       "25%        0.000000   2014.000000      4.000000      8.000000      0.0  \n",
       "50%        0.000000   2014.000000      6.000000     16.000000      0.0  \n",
       "75%        0.000000   2015.000000      9.000000     23.000000      0.0  \n",
       "max        1.000000   2015.000000     12.000000     31.000000      0.0  "
      ]
     },
     "execution_count": 165,
     "metadata": {},
     "output_type": "execute_result"
    }
   ],
   "source": [
    "data.describe()"
   ]
  },
  {
   "cell_type": "markdown",
   "id": "6db1ba7e",
   "metadata": {},
   "source": [
    "# EDA (Exploratory Data Analysis)"
   ]
  },
  {
   "cell_type": "markdown",
   "id": "3b8afea5",
   "metadata": {},
   "source": [
    "## Visualize the distribution of the target variable 'price'"
   ]
  },
  {
   "cell_type": "code",
   "execution_count": 188,
   "id": "71000fe8",
   "metadata": {},
   "outputs": [
    {
     "data": {
      "image/png": "[encoded data removed]",
      "text/plain": [
       "<Figure size 1000x800 with 2 Axes>"
      ]
     },
     "metadata": {},
     "output_type": "display_data"
    }
   ],
   "source": [
    "# Correlation matrix to understand feature relationships\n",
    "numerical_columns = ['living_measure','price','room_bed','room_bath','lot_measure','ceil_measure','coast','yr_built','yr_renovated','lat','long','total_area']\n",
    "\n",
    "correlation_matrix = data[numerical_columns].corr()\n",
    "plt.figure(figsize=(10, 8))\n",
    "sns.heatmap(correlation_matrix, annot=True, cmap='coolwarm', fmt = '.2f', linewidth = 0.5)\n",
    "plt.title(\"Correlation Matrix\")\n",
    "plt.show()"
   ]
  },
  {
   "cell_type": "code",
   "execution_count": 182,
   "id": "852d164f",
   "metadata": {},
   "outputs": [
    {
     "data": {
      "image/png": "[encoded data removed]",
      "text/plain": [
       "<Figure size 800x600 with 1 Axes>"
      ]
     },
     "metadata": {},
     "output_type": "display_data"
    }
   ],
   "source": [
    "living_measure = data['living_measure']\n",
    "price = data['price']\n",
    "\n",
    "plt.figure(figsize = (8, 6))\n",
    "plt.scatter(living_measure, price, alpha = 0.5)\n",
    "plt.title('Scatter Plot of Living Measure vs Price')\n",
    "plt.xlabel('Living Measure')\n",
    "plt.ylabel('Price')\n",
    "plt.grid(True)\n",
    "plt.show()"
   ]
  },
  {
   "cell_type": "code",
   "execution_count": 191,
   "id": "a7ea21bb",
   "metadata": {},
   "outputs": [
    {
     "ename": "AttributeError",
     "evalue": "Can only use .str accessor with string values!",
     "output_type": "error",
     "traceback": [
      "\u001b[1;31m---------------------------------------------------------------------------\u001b[0m",
      "\u001b[1;31mAttributeError\u001b[0m                            Traceback (most recent call last)",
      "Cell \u001b[1;32mIn[191], line 1\u001b[0m\n\u001b[1;32m----> 1\u001b[0m data[\u001b[38;5;124m'\u001b[39m\u001b[38;5;124myr_built\u001b[39m\u001b[38;5;124m'\u001b[39m] \u001b[38;5;241m=\u001b[39m data[\u001b[38;5;124m'\u001b[39m\u001b[38;5;124myr_built\u001b[39m\u001b[38;5;124m'\u001b[39m]\u001b[38;5;241m.\u001b[39mstr\u001b[38;5;241m.\u001b[39mreplace(\u001b[38;5;124mr\u001b[39m\u001b[38;5;124m'\u001b[39m\u001b[38;5;124m\\\u001b[39m\u001b[38;5;124mD\u001b[39m\u001b[38;5;124m'\u001b[39m, \u001b[38;5;124m'\u001b[39m\u001b[38;5;124m'\u001b[39m, regex \u001b[38;5;241m=\u001b[39m \u001b[38;5;28;01mTrue\u001b[39;00m)\n\u001b[0;32m      2\u001b[0m data[\u001b[38;5;124m'\u001b[39m\u001b[38;5;124myr_built\u001b[39m\u001b[38;5;124m'\u001b[39m] \u001b[38;5;241m=\u001b[39m pd\u001b[38;5;241m.\u001b[39mto_numeric(data[\u001b[38;5;124m'\u001b[39m\u001b[38;5;124myr_built\u001b[39m\u001b[38;5;124m'\u001b[39m], errors \u001b[38;5;241m=\u001b[39m \u001b[38;5;124m'\u001b[39m\u001b[38;5;124mcoerce\u001b[39m\u001b[38;5;124m'\u001b[39m)\u001b[38;5;241m.\u001b[39mfillna(\u001b[38;5;241m-\u001b[39m\u001b[38;5;241m1\u001b[39m)\n\u001b[0;32m      3\u001b[0m property_year \u001b[38;5;241m=\u001b[39m data[\u001b[38;5;124m'\u001b[39m\u001b[38;5;124myr_built\u001b[39m\u001b[38;5;124m'\u001b[39m]\u001b[38;5;241m.\u001b[39mastype(\u001b[38;5;28mint\u001b[39m)\n",
      "File \u001b[1;32m~\\anaconda3\\Lib\\site-packages\\pandas\\core\\generic.py:5989\u001b[0m, in \u001b[0;36mNDFrame.__getattr__\u001b[1;34m(self, name)\u001b[0m\n\u001b[0;32m   5982\u001b[0m \u001b[38;5;28;01mif\u001b[39;00m (\n\u001b[0;32m   5983\u001b[0m     name \u001b[38;5;129;01mnot\u001b[39;00m \u001b[38;5;129;01min\u001b[39;00m \u001b[38;5;28mself\u001b[39m\u001b[38;5;241m.\u001b[39m_internal_names_set\n\u001b[0;32m   5984\u001b[0m     \u001b[38;5;129;01mand\u001b[39;00m name \u001b[38;5;129;01mnot\u001b[39;00m \u001b[38;5;129;01min\u001b[39;00m \u001b[38;5;28mself\u001b[39m\u001b[38;5;241m.\u001b[39m_metadata\n\u001b[0;32m   5985\u001b[0m     \u001b[38;5;129;01mand\u001b[39;00m name \u001b[38;5;129;01mnot\u001b[39;00m \u001b[38;5;129;01min\u001b[39;00m \u001b[38;5;28mself\u001b[39m\u001b[38;5;241m.\u001b[39m_accessors\n\u001b[0;32m   5986\u001b[0m     \u001b[38;5;129;01mand\u001b[39;00m \u001b[38;5;28mself\u001b[39m\u001b[38;5;241m.\u001b[39m_info_axis\u001b[38;5;241m.\u001b[39m_can_hold_identifiers_and_holds_name(name)\n\u001b[0;32m   5987\u001b[0m ):\n\u001b[0;32m   5988\u001b[0m     \u001b[38;5;28;01mreturn\u001b[39;00m \u001b[38;5;28mself\u001b[39m[name]\n\u001b[1;32m-> 5989\u001b[0m \u001b[38;5;28;01mreturn\u001b[39;00m \u001b[38;5;28mobject\u001b[39m\u001b[38;5;241m.\u001b[39m\u001b[38;5;21m__getattribute__\u001b[39m(\u001b[38;5;28mself\u001b[39m, name)\n",
      "File \u001b[1;32m~\\anaconda3\\Lib\\site-packages\\pandas\\core\\accessor.py:224\u001b[0m, in \u001b[0;36mCachedAccessor.__get__\u001b[1;34m(self, obj, cls)\u001b[0m\n\u001b[0;32m    221\u001b[0m \u001b[38;5;28;01mif\u001b[39;00m obj \u001b[38;5;129;01mis\u001b[39;00m \u001b[38;5;28;01mNone\u001b[39;00m:\n\u001b[0;32m    222\u001b[0m     \u001b[38;5;66;03m# we're accessing the attribute of the class, i.e., Dataset.geo\u001b[39;00m\n\u001b[0;32m    223\u001b[0m     \u001b[38;5;28;01mreturn\u001b[39;00m \u001b[38;5;28mself\u001b[39m\u001b[38;5;241m.\u001b[39m_accessor\n\u001b[1;32m--> 224\u001b[0m accessor_obj \u001b[38;5;241m=\u001b[39m \u001b[38;5;28mself\u001b[39m\u001b[38;5;241m.\u001b[39m_accessor(obj)\n\u001b[0;32m    225\u001b[0m \u001b[38;5;66;03m# Replace the property with the accessor object. Inspired by:\u001b[39;00m\n\u001b[0;32m    226\u001b[0m \u001b[38;5;66;03m# https://www.pydanny.com/cached-property.html\u001b[39;00m\n\u001b[0;32m    227\u001b[0m \u001b[38;5;66;03m# We need to use object.__setattr__ because we overwrite __setattr__ on\u001b[39;00m\n\u001b[0;32m    228\u001b[0m \u001b[38;5;66;03m# NDFrame\u001b[39;00m\n\u001b[0;32m    229\u001b[0m \u001b[38;5;28mobject\u001b[39m\u001b[38;5;241m.\u001b[39m\u001b[38;5;21m__setattr__\u001b[39m(obj, \u001b[38;5;28mself\u001b[39m\u001b[38;5;241m.\u001b[39m_name, accessor_obj)\n",
      "File \u001b[1;32m~\\anaconda3\\Lib\\site-packages\\pandas\\core\\strings\\accessor.py:181\u001b[0m, in \u001b[0;36mStringMethods.__init__\u001b[1;34m(self, data)\u001b[0m\n\u001b[0;32m    178\u001b[0m \u001b[38;5;28;01mdef\u001b[39;00m \u001b[38;5;21m__init__\u001b[39m(\u001b[38;5;28mself\u001b[39m, data) \u001b[38;5;241m-\u001b[39m\u001b[38;5;241m>\u001b[39m \u001b[38;5;28;01mNone\u001b[39;00m:\n\u001b[0;32m    179\u001b[0m     \u001b[38;5;28;01mfrom\u001b[39;00m \u001b[38;5;21;01mpandas\u001b[39;00m\u001b[38;5;21;01m.\u001b[39;00m\u001b[38;5;21;01mcore\u001b[39;00m\u001b[38;5;21;01m.\u001b[39;00m\u001b[38;5;21;01marrays\u001b[39;00m\u001b[38;5;21;01m.\u001b[39;00m\u001b[38;5;21;01mstring_\u001b[39;00m \u001b[38;5;28;01mimport\u001b[39;00m StringDtype\n\u001b[1;32m--> 181\u001b[0m     \u001b[38;5;28mself\u001b[39m\u001b[38;5;241m.\u001b[39m_inferred_dtype \u001b[38;5;241m=\u001b[39m \u001b[38;5;28mself\u001b[39m\u001b[38;5;241m.\u001b[39m_validate(data)\n\u001b[0;32m    182\u001b[0m     \u001b[38;5;28mself\u001b[39m\u001b[38;5;241m.\u001b[39m_is_categorical \u001b[38;5;241m=\u001b[39m is_categorical_dtype(data\u001b[38;5;241m.\u001b[39mdtype)\n\u001b[0;32m    183\u001b[0m     \u001b[38;5;28mself\u001b[39m\u001b[38;5;241m.\u001b[39m_is_string \u001b[38;5;241m=\u001b[39m \u001b[38;5;28misinstance\u001b[39m(data\u001b[38;5;241m.\u001b[39mdtype, StringDtype)\n",
      "File \u001b[1;32m~\\anaconda3\\Lib\\site-packages\\pandas\\core\\strings\\accessor.py:235\u001b[0m, in \u001b[0;36mStringMethods._validate\u001b[1;34m(data)\u001b[0m\n\u001b[0;32m    232\u001b[0m inferred_dtype \u001b[38;5;241m=\u001b[39m lib\u001b[38;5;241m.\u001b[39minfer_dtype(values, skipna\u001b[38;5;241m=\u001b[39m\u001b[38;5;28;01mTrue\u001b[39;00m)\n\u001b[0;32m    234\u001b[0m \u001b[38;5;28;01mif\u001b[39;00m inferred_dtype \u001b[38;5;129;01mnot\u001b[39;00m \u001b[38;5;129;01min\u001b[39;00m allowed_types:\n\u001b[1;32m--> 235\u001b[0m     \u001b[38;5;28;01mraise\u001b[39;00m \u001b[38;5;167;01mAttributeError\u001b[39;00m(\u001b[38;5;124m\"\u001b[39m\u001b[38;5;124mCan only use .str accessor with string values!\u001b[39m\u001b[38;5;124m\"\u001b[39m)\n\u001b[0;32m    236\u001b[0m \u001b[38;5;28;01mreturn\u001b[39;00m inferred_dtype\n",
      "\u001b[1;31mAttributeError\u001b[0m: Can only use .str accessor with string values!"
     ]
    }
   ],
   "source": [
    "data['yr_built'] = data['yr_built'].str.replace(r'\\D', '', regex = True)\n",
    "data['yr_built'] = pd.to_numeric(data['yr_built'], errors = 'coerce').fillna(-1)\n",
    "property_year = data['yr_built'].astype(int)\n",
    "plt.hist(property_year, bins = 2, color = 'red', edgecolor = 'blue', alpha = 0.7)\n",
    "plt.title('Distribution of Age of the Property')\n",
    "plt.xlabel('Built Year')\n",
    "plt.ylabel('Frequency')\n",
    "plt.grid(True)\n",
    "plt.show()"
   ]
  },
  {
   "cell_type": "code",
   "execution_count": null,
   "id": "ad0167d3",
   "metadata": {},
   "outputs": [],
   "source": []
  },
  {
   "cell_type": "markdown",
   "id": "218502f9",
   "metadata": {},
   "source": [
    "# Selecting Features"
   ]
  },
  {
   "cell_type": "code",
   "execution_count": 168,
   "id": "3a7f599f",
   "metadata": {},
   "outputs": [],
   "source": [
    "# For simplicity, we'll use all available features as a starting point.\n",
    "# You can perform feature selection based on correlation or other techniques.\n",
    "\n",
    "# Split the data into features (X) and the target (y)\n",
    "X = data.drop(columns=['price'])\n",
    "y = data['price']"
   ]
  },
  {
   "cell_type": "code",
   "execution_count": 169,
   "id": "a1f887e4",
   "metadata": {},
   "outputs": [],
   "source": [
    "# Split the data into a training set and a testing set\n",
    "X_train, X_test, y_train, y_test = train_test_split(X, y, test_size=0.2, random_state=42)"
   ]
  },
  {
   "cell_type": "code",
   "execution_count": null,
   "id": "d29c37b2",
   "metadata": {},
   "outputs": [],
   "source": []
  },
  {
   "cell_type": "markdown",
   "id": "7220b4b3",
   "metadata": {},
   "source": [
    "## Model Building"
   ]
  },
  {
   "cell_type": "code",
   "execution_count": 170,
   "id": "cca67849",
   "metadata": {},
   "outputs": [
    {
     "data": {
      "text/html": [
       "<style>#sk-container-id-6 {color: black;}#sk-container-id-6 pre{padding: 0;}#sk-container-id-6 div.sk-toggleable {background-color: white;}#sk-container-id-6 label.sk-toggleable__label {cursor: pointer;display: block;width: 100%;margin-bottom: 0;padding: 0.3em;box-sizing: border-box;text-align: center;}#sk-container-id-6 label.sk-toggleable__label-arrow:before {content: \"▸\";float: left;margin-right: 0.25em;color: #696969;}#sk-container-id-6 label.sk-toggleable__label-arrow:hover:before {color: black;}#sk-container-id-6 div.sk-estimator:hover label.sk-toggleable__label-arrow:before {color: black;}#sk-container-id-6 div.sk-toggleable__content {max-height: 0;max-width: 0;overflow: hidden;text-align: left;background-color: #f0f8ff;}#sk-container-id-6 div.sk-toggleable__content pre {margin: 0.2em;color: black;border-radius: 0.25em;background-color: #f0f8ff;}#sk-container-id-6 input.sk-toggleable__control:checked~div.sk-toggleable__content {max-height: 200px;max-width: 100%;overflow: auto;}#sk-container-id-6 input.sk-toggleable__control:checked~label.sk-toggleable__label-arrow:before {content: \"▾\";}#sk-container-id-6 div.sk-estimator input.sk-toggleable__control:checked~label.sk-toggleable__label {background-color: #d4ebff;}#sk-container-id-6 div.sk-label input.sk-toggleable__control:checked~label.sk-toggleable__label {background-color: #d4ebff;}#sk-container-id-6 input.sk-hidden--visually {border: 0;clip: rect(1px 1px 1px 1px);clip: rect(1px, 1px, 1px, 1px);height: 1px;margin: -1px;overflow: hidden;padding: 0;position: absolute;width: 1px;}#sk-container-id-6 div.sk-estimator {font-family: monospace;background-color: #f0f8ff;border: 1px dotted black;border-radius: 0.25em;box-sizing: border-box;margin-bottom: 0.5em;}#sk-container-id-6 div.sk-estimator:hover {background-color: #d4ebff;}#sk-container-id-6 div.sk-parallel-item::after {content: \"\";width: 100%;border-bottom: 1px solid gray;flex-grow: 1;}#sk-container-id-6 div.sk-label:hover label.sk-toggleable__label {background-color: #d4ebff;}#sk-container-id-6 div.sk-serial::before {content: \"\";position: absolute;border-left: 1px solid gray;box-sizing: border-box;top: 0;bottom: 0;left: 50%;z-index: 0;}#sk-container-id-6 div.sk-serial {display: flex;flex-direction: column;align-items: center;background-color: white;padding-right: 0.2em;padding-left: 0.2em;position: relative;}#sk-container-id-6 div.sk-item {position: relative;z-index: 1;}#sk-container-id-6 div.sk-parallel {display: flex;align-items: stretch;justify-content: center;background-color: white;position: relative;}#sk-container-id-6 div.sk-item::before, #sk-container-id-6 div.sk-parallel-item::before {content: \"\";position: absolute;border-left: 1px solid gray;box-sizing: border-box;top: 0;bottom: 0;left: 50%;z-index: -1;}#sk-container-id-6 div.sk-parallel-item {display: flex;flex-direction: column;z-index: 1;position: relative;background-color: white;}#sk-container-id-6 div.sk-parallel-item:first-child::after {align-self: flex-end;width: 50%;}#sk-container-id-6 div.sk-parallel-item:last-child::after {align-self: flex-start;width: 50%;}#sk-container-id-6 div.sk-parallel-item:only-child::after {width: 0;}#sk-container-id-6 div.sk-dashed-wrapped {border: 1px dashed gray;margin: 0 0.4em 0.5em 0.4em;box-sizing: border-box;padding-bottom: 0.4em;background-color: white;}#sk-container-id-6 div.sk-label label {font-family: monospace;font-weight: bold;display: inline-block;line-height: 1.2em;}#sk-container-id-6 div.sk-label-container {text-align: center;}#sk-container-id-6 div.sk-container {/* jupyter's `normalize.less` sets `[hidden] { display: none; }` but bootstrap.min.css set `[hidden] { display: none !important; }` so we also need the `!important` here to be able to override the default hidden behavior on the sphinx rendered scikit-learn.org. See: https://github.com/scikit-learn/scikit-learn/issues/21755 */display: inline-block !important;position: relative;}#sk-container-id-6 div.sk-text-repr-fallback {display: none;}</style><div id=\"sk-container-id-6\" class=\"sk-top-container\"><div class=\"sk-text-repr-fallback\"><pre>LinearRegression()</pre><b>In a Jupyter environment, please rerun this cell to show the HTML representation or trust the notebook. <br />On GitHub, the HTML representation is unable to render, please try loading this page with nbviewer.org.</b></div><div class=\"sk-container\" hidden><div class=\"sk-item\"><div class=\"sk-estimator sk-toggleable\"><input class=\"sk-toggleable__control sk-hidden--visually\" id=\"sk-estimator-id-6\" type=\"checkbox\" checked><label for=\"sk-estimator-id-6\" class=\"sk-toggleable__label sk-toggleable__label-arrow\">LinearRegression</label><div class=\"sk-toggleable__content\"><pre>LinearRegression()</pre></div></div></div></div></div>"
      ],
      "text/plain": [
       "LinearRegression()"
      ]
     },
     "execution_count": 170,
     "metadata": {},
     "output_type": "execute_result"
    }
   ],
   "source": [
    "# Create and train a Linear Regression model\n",
    "model = LinearRegression()\n",
    "model.fit(X_train, y_train)"
   ]
  },
  {
   "cell_type": "code",
   "execution_count": 171,
   "id": "4e70857e",
   "metadata": {},
   "outputs": [
    {
     "data": {
      "text/plain": [
       "0.6915704006126686"
      ]
     },
     "execution_count": 171,
     "metadata": {},
     "output_type": "execute_result"
    }
   ],
   "source": [
    "model.score(X_test, y_test)"
   ]
  },
  {
   "cell_type": "code",
   "execution_count": 172,
   "id": "010bfbe4",
   "metadata": {},
   "outputs": [
    {
     "data": {
      "text/html": [
       "<style>#sk-container-id-7 {color: black;}#sk-container-id-7 pre{padding: 0;}#sk-container-id-7 div.sk-toggleable {background-color: white;}#sk-container-id-7 label.sk-toggleable__label {cursor: pointer;display: block;width: 100%;margin-bottom: 0;padding: 0.3em;box-sizing: border-box;text-align: center;}#sk-container-id-7 label.sk-toggleable__label-arrow:before {content: \"▸\";float: left;margin-right: 0.25em;color: #696969;}#sk-container-id-7 label.sk-toggleable__label-arrow:hover:before {color: black;}#sk-container-id-7 div.sk-estimator:hover label.sk-toggleable__label-arrow:before {color: black;}#sk-container-id-7 div.sk-toggleable__content {max-height: 0;max-width: 0;overflow: hidden;text-align: left;background-color: #f0f8ff;}#sk-container-id-7 div.sk-toggleable__content pre {margin: 0.2em;color: black;border-radius: 0.25em;background-color: #f0f8ff;}#sk-container-id-7 input.sk-toggleable__control:checked~div.sk-toggleable__content {max-height: 200px;max-width: 100%;overflow: auto;}#sk-container-id-7 input.sk-toggleable__control:checked~label.sk-toggleable__label-arrow:before {content: \"▾\";}#sk-container-id-7 div.sk-estimator input.sk-toggleable__control:checked~label.sk-toggleable__label {background-color: #d4ebff;}#sk-container-id-7 div.sk-label input.sk-toggleable__control:checked~label.sk-toggleable__label {background-color: #d4ebff;}#sk-container-id-7 input.sk-hidden--visually {border: 0;clip: rect(1px 1px 1px 1px);clip: rect(1px, 1px, 1px, 1px);height: 1px;margin: -1px;overflow: hidden;padding: 0;position: absolute;width: 1px;}#sk-container-id-7 div.sk-estimator {font-family: monospace;background-color: #f0f8ff;border: 1px dotted black;border-radius: 0.25em;box-sizing: border-box;margin-bottom: 0.5em;}#sk-container-id-7 div.sk-estimator:hover {background-color: #d4ebff;}#sk-container-id-7 div.sk-parallel-item::after {content: \"\";width: 100%;border-bottom: 1px solid gray;flex-grow: 1;}#sk-container-id-7 div.sk-label:hover label.sk-toggleable__label {background-color: #d4ebff;}#sk-container-id-7 div.sk-serial::before {content: \"\";position: absolute;border-left: 1px solid gray;box-sizing: border-box;top: 0;bottom: 0;left: 50%;z-index: 0;}#sk-container-id-7 div.sk-serial {display: flex;flex-direction: column;align-items: center;background-color: white;padding-right: 0.2em;padding-left: 0.2em;position: relative;}#sk-container-id-7 div.sk-item {position: relative;z-index: 1;}#sk-container-id-7 div.sk-parallel {display: flex;align-items: stretch;justify-content: center;background-color: white;position: relative;}#sk-container-id-7 div.sk-item::before, #sk-container-id-7 div.sk-parallel-item::before {content: \"\";position: absolute;border-left: 1px solid gray;box-sizing: border-box;top: 0;bottom: 0;left: 50%;z-index: -1;}#sk-container-id-7 div.sk-parallel-item {display: flex;flex-direction: column;z-index: 1;position: relative;background-color: white;}#sk-container-id-7 div.sk-parallel-item:first-child::after {align-self: flex-end;width: 50%;}#sk-container-id-7 div.sk-parallel-item:last-child::after {align-self: flex-start;width: 50%;}#sk-container-id-7 div.sk-parallel-item:only-child::after {width: 0;}#sk-container-id-7 div.sk-dashed-wrapped {border: 1px dashed gray;margin: 0 0.4em 0.5em 0.4em;box-sizing: border-box;padding-bottom: 0.4em;background-color: white;}#sk-container-id-7 div.sk-label label {font-family: monospace;font-weight: bold;display: inline-block;line-height: 1.2em;}#sk-container-id-7 div.sk-label-container {text-align: center;}#sk-container-id-7 div.sk-container {/* jupyter's `normalize.less` sets `[hidden] { display: none; }` but bootstrap.min.css set `[hidden] { display: none !important; }` so we also need the `!important` here to be able to override the default hidden behavior on the sphinx rendered scikit-learn.org. See: https://github.com/scikit-learn/scikit-learn/issues/21755 */display: inline-block !important;position: relative;}#sk-container-id-7 div.sk-text-repr-fallback {display: none;}</style><div id=\"sk-container-id-7\" class=\"sk-top-container\"><div class=\"sk-text-repr-fallback\"><pre>RandomForestRegressor(n_estimators=10, random_state=0)</pre><b>In a Jupyter environment, please rerun this cell to show the HTML representation or trust the notebook. <br />On GitHub, the HTML representation is unable to render, please try loading this page with nbviewer.org.</b></div><div class=\"sk-container\" hidden><div class=\"sk-item\"><div class=\"sk-estimator sk-toggleable\"><input class=\"sk-toggleable__control sk-hidden--visually\" id=\"sk-estimator-id-7\" type=\"checkbox\" checked><label for=\"sk-estimator-id-7\" class=\"sk-toggleable__label sk-toggleable__label-arrow\">RandomForestRegressor</label><div class=\"sk-toggleable__content\"><pre>RandomForestRegressor(n_estimators=10, random_state=0)</pre></div></div></div></div></div>"
      ],
      "text/plain": [
       "RandomForestRegressor(n_estimators=10, random_state=0)"
      ]
     },
     "execution_count": 172,
     "metadata": {},
     "output_type": "execute_result"
    }
   ],
   "source": [
    "from sklearn.ensemble import RandomForestRegressor\n",
    "regressor = RandomForestRegressor(n_estimators = 10, random_state = 0)\n",
    "regressor.fit(X_train,y_train)"
   ]
  },
  {
   "cell_type": "code",
   "execution_count": 173,
   "id": "3d3ad11e",
   "metadata": {},
   "outputs": [
    {
     "data": {
      "text/plain": [
       "0.8551914003784944"
      ]
     },
     "execution_count": 173,
     "metadata": {},
     "output_type": "execute_result"
    }
   ],
   "source": [
    "regressor.score(X_test, y_test)"
   ]
  },
  {
   "cell_type": "markdown",
   "id": "70fe6bc6",
   "metadata": {},
   "source": [
    "# Model Evaluation"
   ]
  },
  {
   "cell_type": "code",
   "execution_count": 174,
   "id": "dc6b2db4",
   "metadata": {},
   "outputs": [],
   "source": [
    "# Predict house prices on the test set\n",
    "y_pred = model.predict(X_test)"
   ]
  },
  {
   "cell_type": "code",
   "execution_count": 175,
   "id": "7a6208f7",
   "metadata": {},
   "outputs": [],
   "source": [
    "# Evaluate the model using metrics\n",
    "mse = mean_squared_error(y_test, y_pred)\n",
    "r2 = r2_score(y_test, y_pred)"
   ]
  },
  {
   "cell_type": "code",
   "execution_count": 176,
   "id": "6bd2ecc3",
   "metadata": {},
   "outputs": [
    {
     "name": "stdout",
     "output_type": "stream",
     "text": [
      "Mean Squared Error: 37030583618.122696\n",
      "R-squared (R2) Score: 0.6915704006126686\n"
     ]
    }
   ],
   "source": [
    "print(\"Mean Squared Error:\", mse)\n",
    "print(\"R-squared (R2) Score:\", r2)"
   ]
  },
  {
   "cell_type": "markdown",
   "id": "430c632a",
   "metadata": {},
   "source": [
    "## Model Interpretation"
   ]
  },
  {
   "cell_type": "code",
   "execution_count": 177,
   "id": "ed4040af",
   "metadata": {},
   "outputs": [
    {
     "name": "stdout",
     "output_type": "stream",
     "text": [
      "room_bed: -35275.91048347186\n",
      "room_bath: 45173.648968215246\n",
      "living_measure: -15510767497431.31\n",
      "lot_measure: -23220754126279.258\n",
      "ceil: 7839.1216212558365\n",
      "coast: 574899.1656935178\n",
      "sight: 53825.90698366361\n",
      "condition: 30263.37038496624\n",
      "quality: 87776.9519261575\n",
      "ceil_measure: -7709986628674.217\n",
      "basement: -7709986628696.564\n",
      "yr_built: -2564.355627080751\n",
      "yr_renovated: 22.1552126733489\n",
      "zipcode: -589.4153722700287\n",
      "lat: 596600.4910634604\n",
      "long: -219161.567503917\n",
      "living_measure15: 21.717455032975522\n",
      "lot_measure15: -0.39498409698535397\n",
      "furnished: 41698.06988546076\n",
      "total_area: 23220754126279.383\n",
      "year: 36261.21829896271\n",
      "month: 1076.5964307378129\n",
      "day: -373.8657009445458\n",
      "hour: 0.0\n"
     ]
    }
   ],
   "source": [
    "# To understand the influence of each feature on predictions, you can examine coefficients:\n",
    "coefficients = model.coef_\n",
    "feature_names = X.columns\n",
    "\n",
    "for feature, coef in zip(feature_names, coefficients):\n",
    "    print(f\"{feature}: {coef}\")"
   ]
  },
  {
   "cell_type": "code",
   "execution_count": 178,
   "id": "9eb4d131",
   "metadata": {},
   "outputs": [],
   "source": [
    "# Define a dictionary for the new data point\n",
    "new_data_point = {\n",
    "    'room_bed': 3,\n",
    "    'room_bath': 2,\n",
    "    'living_measure': 1800,\n",
    "    'lot_measure': 6000,\n",
    "    'ceil': 1,\n",
    "    'coast': 0,\n",
    "    'sight': 0,\n",
    "    'condition': 4,\n",
    "    'quality': 7,\n",
    "    'ceil_measure': 1800,\n",
    "    'basement': 0,  \n",
    "    'yr_built': 1995,\n",
    "    'yr_renovated': 0,\n",
    "    'zipcode': 98034,\n",
    "    'lat': 47.7228,\n",
    "    'long': -122.183,\n",
    "    'living_measure15': 1800,\n",
    "    'lot_measure15': 6000,\n",
    "    'furnished': 0,\n",
    "    'total_area': 7800,\n",
    "    'year': 2023,\n",
    "    'month': 10,\n",
    "    'day': 15,\n",
    "    'hour': 14\n",
    "}"
   ]
  },
  {
   "cell_type": "code",
   "execution_count": 179,
   "id": "63d707ee",
   "metadata": {},
   "outputs": [],
   "source": [
    "# Convert the dictionary to a DataFrame\n",
    "new_data = pd.DataFrame([new_data_point])"
   ]
  },
  {
   "cell_type": "code",
   "execution_count": 180,
   "id": "fecb56fd",
   "metadata": {},
   "outputs": [],
   "source": [
    "# Predict the price for the new data point using the trained model\n",
    "predicted_price = model.predict(new_data)"
   ]
  },
  {
   "cell_type": "code",
   "execution_count": 181,
   "id": "b927c114",
   "metadata": {},
   "outputs": [
    {
     "name": "stdout",
     "output_type": "stream",
     "text": [
      "Predicted Price: 806774.5075748712\n"
     ]
    }
   ],
   "source": [
    "print(\"Predicted Price:\", predicted_price[0])"
   ]
  },
  {
   "cell_type": "markdown",
   "id": "effa62f4",
   "metadata": {},
   "source": [
    "The predicted Price Rs. 806774.5075748712"
   ]
  },
  {
   "cell_type": "markdown",
   "id": "11d1b2c9",
   "metadata": {},
   "source": [
    "Price Distribution: The distribution of house prices within the dataset reveals that the majority of houses fall within a specific price range, with a few higher-priced outliers. This insight aids stakeholders in grasping the typical pricing dynamics within the market.\n",
    "\n",
    "Correlation Analysis: Through examination of the correlation matrix, we can discern features that wield significant influence over house prices. Notably, factors such as the number of bedrooms, living area size, and quality exhibit substantial correlations with house prices.\n",
    "\n",
    "Model Performance: Employing a linear regression model to forecast house prices based on the provided features, we assessed its performance using metrics like Mean Squared Error (MSE) and R-squared (R2). The model achieved an MSE of [37030583618.122696] and an R2 score of [0.6915704006126686], indicative of its ability to effectively fit the data and generate precise predictions."
   ]
  },
  {
   "cell_type": "code",
   "execution_count": null,
   "id": "d43b7341",
   "metadata": {},
   "outputs": [],
   "source": []
  }
 ],
 "metadata": {
  "kernelspec": {
   "display_name": "Python 3 (ipykernel)",
   "language": "python",
   "name": "python3"
  },
  "language_info": {
   "codemirror_mode": {
    "name": "ipython",
    "version": 3
   },
   "file_extension": ".py",
   "mimetype": "text/x-python",
   "name": "python",
   "nbconvert_exporter": "python",
   "pygments_lexer": "ipython3",
   "version": "3.9.13"
  }
 },
 "nbformat": 4,
 "nbformat_minor": 5
}
