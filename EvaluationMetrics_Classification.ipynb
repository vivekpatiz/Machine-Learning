{
  "metadata": {
    "kernelspec": {
      "name": "python",
      "display_name": "Python (Pyodide)",
      "language": "python"
    },
    "language_info": {
      "codemirror_mode": {
        "name": "python",
        "version": 3
      },
      "file_extension": ".py",
      "mimetype": "text/x-python",
      "name": "python",
      "nbconvert_exporter": "python",
      "pygments_lexer": "ipython3",
      "version": "3.8"
    }
  },
  "nbformat_minor": 5,
  "nbformat": 4,
  "cells": [
    {
      "id": "aeba59e8-9753-411b-9012-824648d77425",
      "cell_type": "code",
      "source": "from sklearn.metrics import accuracy_score\naccuracy = accuracy_score(y_test_classes, y_pred_classes)\nprint(f'Accuracy: {accuracy:.4f}')",
      "metadata": {
        "trusted": true
      },
      "outputs": [],
      "execution_count": null
    },
    {
      "id": "a42ef4a8-3628-4b40-a0f7-029cbaf5e02e",
      "cell_type": "code",
      "source": "cm = confusion_matrix(y_test_classes, y_pred_classes)\ncm",
      "metadata": {
        "trusted": true
      },
      "outputs": [],
      "execution_count": null
    },
    {
      "id": "48607131-0593-4ed3-a63c-39b73c4c2e63",
      "cell_type": "code",
      "source": "precision = precision_score(y_test_classes, y_pred_classes, average='macro')\nrecall = recall_score(y_test_classes, y_pred_classes, average='macro')\nf1 = f1_score(y_test_classes, y_pred_classes, average='macro')\n\nprint(f'Precision: {precision:.4f}')\nprint(f'Recall: {recall:.4f}')\nprint(f'F1 Score: {f1:.4f}')",
      "metadata": {
        "trusted": true
      },
      "outputs": [],
      "execution_count": null
    },
    {
      "id": "19cde0cb-918c-4ff0-9338-c84727e4233e",
      "cell_type": "code",
      "source": "roc_auc = roc_auc_score(test_y, y_pred_prob)",
      "metadata": {
        "trusted": true
      },
      "outputs": [],
      "execution_count": null
    }
  ]
}