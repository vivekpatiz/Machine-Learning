{
  "metadata": {
    "kernelspec": {
      "name": "python",
      "display_name": "Python (Pyodide)",
      "language": "python"
    },
    "language_info": {
      "codemirror_mode": {
        "name": "python",
        "version": 3
      },
      "file_extension": ".py",
      "mimetype": "text/x-python",
      "name": "python",
      "nbconvert_exporter": "python",
      "pygments_lexer": "ipython3",
      "version": "3.8"
    }
  },
  "nbformat_minor": 5,
  "nbformat": 4,
  "cells": [
    {
      "id": "0b61de48-35eb-493a-91a8-43e9b4eb5992",
      "cell_type": "code",
      "source": "from sklearn.metrics import mean_absolute_error\nprint(\"MAE\",mean_absolute_error(y_test,y_pred))",
      "metadata": {
        "trusted": true
      },
      "outputs": [],
      "execution_count": null
    },
    {
      "id": "2421f5a0-d43f-412f-ae49-66bfc5493e70",
      "cell_type": "code",
      "source": "from sklearn.metrics import mean_squared_error\nprint(\"MSE\",mean_squared_error(y_test,y_pred))",
      "metadata": {
        "trusted": true
      },
      "outputs": [],
      "execution_count": null
    },
    {
      "id": "bbdfdaf1-b6d0-4141-b410-7d5870db8622",
      "cell_type": "code",
      "source": "print(\"RMSE\",np.sqrt(mean_squared_error(y_test,y_pred)))",
      "metadata": {
        "trusted": true
      },
      "outputs": [],
      "execution_count": null
    },
    {
      "id": "173946fd-018c-48a5-ad33-74584b81c293",
      "cell_type": "code",
      "source": "print(\"RMSE\",np.log(np.sqrt(mean_squared_error(y_test,y_pred))))",
      "metadata": {
        "trusted": true
      },
      "outputs": [],
      "execution_count": null
    },
    {
      "id": "5b25f152-47ec-484f-85bd-27206048f904",
      "cell_type": "code",
      "source": "from sklearn.metrics import r2_score\nr2 = r2_score(y_test,y_pred)\nprint(r2)",
      "metadata": {
        "trusted": true
      },
      "outputs": [],
      "execution_count": null
    }
  ]
}