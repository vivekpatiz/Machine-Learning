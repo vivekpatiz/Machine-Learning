{
 "cells": [
  {
   "cell_type": "markdown",
   "id": "64f3f751",
   "metadata": {},
   "source": [
    "# Data Preprocessing in Python"
   ]
  },
  {
   "cell_type": "markdown",
   "id": "9ce103c4",
   "metadata": {},
   "source": [
    "## Importing the libraries"
   ]
  },
  {
   "cell_type": "code",
   "execution_count": 572,
   "id": "33f1201b",
   "metadata": {},
   "outputs": [],
   "source": [
    "import pandas as pd\n",
    "import numpy as np\n",
    "import matplotlib.pyplot as plt"
   ]
  },
  {
   "cell_type": "markdown",
   "id": "eda12e35",
   "metadata": {},
   "source": [
    "## Importing the datasets"
   ]
  },
  {
   "cell_type": "code",
   "execution_count": 573,
   "id": "82ab9011",
   "metadata": {},
   "outputs": [
    {
     "data": {
      "text/html": [
       "<div>\n",
       "<style scoped>\n",
       "    .dataframe tbody tr th:only-of-type {\n",
       "        vertical-align: middle;\n",
       "    }\n",
       "\n",
       "    .dataframe tbody tr th {\n",
       "        vertical-align: top;\n",
       "    }\n",
       "\n",
       "    .dataframe thead th {\n",
       "        text-align: right;\n",
       "    }\n",
       "</style>\n",
       "<table border=\"1\" class=\"dataframe\">\n",
       "  <thead>\n",
       "    <tr style=\"text-align: right;\">\n",
       "      <th></th>\n",
       "      <th>price</th>\n",
       "      <th>room_bed</th>\n",
       "      <th>room_bath</th>\n",
       "      <th>gender</th>\n",
       "      <th>living_measure</th>\n",
       "      <th>lot_measure</th>\n",
       "      <th>ceil</th>\n",
       "      <th>coast</th>\n",
       "      <th>sight</th>\n",
       "      <th>condition</th>\n",
       "      <th>...</th>\n",
       "      <th>lat</th>\n",
       "      <th>long</th>\n",
       "      <th>living_measure15</th>\n",
       "      <th>lot_measure15</th>\n",
       "      <th>furnished</th>\n",
       "      <th>total_area</th>\n",
       "      <th>year</th>\n",
       "      <th>month</th>\n",
       "      <th>day</th>\n",
       "      <th>hour</th>\n",
       "    </tr>\n",
       "  </thead>\n",
       "  <tbody>\n",
       "    <tr>\n",
       "      <th>0</th>\n",
       "      <td>600000</td>\n",
       "      <td>4.0</td>\n",
       "      <td>1.75</td>\n",
       "      <td>Female</td>\n",
       "      <td>3050.0</td>\n",
       "      <td>9440.0</td>\n",
       "      <td>1</td>\n",
       "      <td>0</td>\n",
       "      <td>0.0</td>\n",
       "      <td>3</td>\n",
       "      <td>...</td>\n",
       "      <td>47.7228</td>\n",
       "      <td>-122.183</td>\n",
       "      <td>2020.0</td>\n",
       "      <td>8660.0</td>\n",
       "      <td>0.0</td>\n",
       "      <td>12490</td>\n",
       "      <td>2015</td>\n",
       "      <td>4</td>\n",
       "      <td>27</td>\n",
       "      <td>0</td>\n",
       "    </tr>\n",
       "    <tr>\n",
       "      <th>1</th>\n",
       "      <td>190000</td>\n",
       "      <td>2.0</td>\n",
       "      <td>1.00</td>\n",
       "      <td>Male</td>\n",
       "      <td>670.0</td>\n",
       "      <td>3101.0</td>\n",
       "      <td>1</td>\n",
       "      <td>0</td>\n",
       "      <td>0.0</td>\n",
       "      <td>4</td>\n",
       "      <td>...</td>\n",
       "      <td>47.5546</td>\n",
       "      <td>-122.274</td>\n",
       "      <td>1660.0</td>\n",
       "      <td>4100.0</td>\n",
       "      <td>0.0</td>\n",
       "      <td>3771</td>\n",
       "      <td>2015</td>\n",
       "      <td>3</td>\n",
       "      <td>17</td>\n",
       "      <td>0</td>\n",
       "    </tr>\n",
       "    <tr>\n",
       "      <th>2</th>\n",
       "      <td>735000</td>\n",
       "      <td>4.0</td>\n",
       "      <td>2.75</td>\n",
       "      <td>Female</td>\n",
       "      <td>3040.0</td>\n",
       "      <td>2415.0</td>\n",
       "      <td>2</td>\n",
       "      <td>1</td>\n",
       "      <td>4.0</td>\n",
       "      <td>3</td>\n",
       "      <td>...</td>\n",
       "      <td>47.5188</td>\n",
       "      <td>-122.256</td>\n",
       "      <td>2620.0</td>\n",
       "      <td>2433.0</td>\n",
       "      <td>0.0</td>\n",
       "      <td>5455</td>\n",
       "      <td>2014</td>\n",
       "      <td>8</td>\n",
       "      <td>20</td>\n",
       "      <td>0</td>\n",
       "    </tr>\n",
       "    <tr>\n",
       "      <th>3</th>\n",
       "      <td>257000</td>\n",
       "      <td>3.0</td>\n",
       "      <td>2.50</td>\n",
       "      <td>Male</td>\n",
       "      <td>1740.0</td>\n",
       "      <td>3721.0</td>\n",
       "      <td>2</td>\n",
       "      <td>0</td>\n",
       "      <td>0.0</td>\n",
       "      <td>3</td>\n",
       "      <td>...</td>\n",
       "      <td>47.3363</td>\n",
       "      <td>-122.213</td>\n",
       "      <td>2030.0</td>\n",
       "      <td>3794.0</td>\n",
       "      <td>0.0</td>\n",
       "      <td>5461</td>\n",
       "      <td>2014</td>\n",
       "      <td>10</td>\n",
       "      <td>10</td>\n",
       "      <td>0</td>\n",
       "    </tr>\n",
       "    <tr>\n",
       "      <th>4</th>\n",
       "      <td>450000</td>\n",
       "      <td>2.0</td>\n",
       "      <td>1.00</td>\n",
       "      <td>Female</td>\n",
       "      <td>1120.0</td>\n",
       "      <td>4590.0</td>\n",
       "      <td>1</td>\n",
       "      <td>0</td>\n",
       "      <td>0.0</td>\n",
       "      <td>3</td>\n",
       "      <td>...</td>\n",
       "      <td>47.5663</td>\n",
       "      <td>-122.285</td>\n",
       "      <td>1120.0</td>\n",
       "      <td>5100.0</td>\n",
       "      <td>0.0</td>\n",
       "      <td>5710</td>\n",
       "      <td>2015</td>\n",
       "      <td>2</td>\n",
       "      <td>18</td>\n",
       "      <td>0</td>\n",
       "    </tr>\n",
       "  </tbody>\n",
       "</table>\n",
       "<p>5 rows × 26 columns</p>\n",
       "</div>"
      ],
      "text/plain": [
       "    price  room_bed  room_bath  gender  living_measure  lot_measure ceil  \\\n",
       "0  600000       4.0       1.75  Female          3050.0       9440.0    1   \n",
       "1  190000       2.0       1.00    Male           670.0       3101.0    1   \n",
       "2  735000       4.0       2.75  Female          3040.0       2415.0    2   \n",
       "3  257000       3.0       2.50    Male          1740.0       3721.0    2   \n",
       "4  450000       2.0       1.00  Female          1120.0       4590.0    1   \n",
       "\n",
       "  coast  sight condition  ...      lat     long  living_measure15  \\\n",
       "0     0    0.0         3  ...  47.7228 -122.183            2020.0   \n",
       "1     0    0.0         4  ...  47.5546 -122.274            1660.0   \n",
       "2     1    4.0         3  ...  47.5188 -122.256            2620.0   \n",
       "3     0    0.0         3  ...  47.3363 -122.213            2030.0   \n",
       "4     0    0.0         3  ...  47.5663 -122.285            1120.0   \n",
       "\n",
       "  lot_measure15  furnished  total_area  year month  day  hour  \n",
       "0        8660.0        0.0       12490  2015     4   27     0  \n",
       "1        4100.0        0.0        3771  2015     3   17     0  \n",
       "2        2433.0        0.0        5455  2014     8   20     0  \n",
       "3        3794.0        0.0        5461  2014    10   10     0  \n",
       "4        5100.0        0.0        5710  2015     2   18     0  \n",
       "\n",
       "[5 rows x 26 columns]"
      ]
     },
     "execution_count": 573,
     "metadata": {},
     "output_type": "execute_result"
    }
   ],
   "source": [
    "df = pd.read_excel('innercity.xlsx')\n",
    "df['dayhours'] = pd.to_datetime(df['dayhours'])\n",
    "df['year'] = df['dayhours'].dt.year\n",
    "df['month'] = df['dayhours'].dt.month\n",
    "df['day'] = df['dayhours'].dt.day\n",
    "df['hour'] = df['dayhours'].dt.hour\n",
    "categorical_mask = (df.dtypes == object) \n",
    "# Remove the original 'dayhours' column\n",
    "df = df.drop(columns=['dayhours'])\n",
    "# Drop 'cid' column\n",
    "df = df.drop(columns=['cid'])\n",
    "df = df[~df.apply(lambda row: row.astype(str).str.contains('$',regex=False)).any(axis=1)]\n",
    "df.head()"
   ]
  },
  {
   "cell_type": "code",
   "execution_count": 574,
   "id": "97f2265a",
   "metadata": {
    "scrolled": false
   },
   "outputs": [
    {
     "name": "stdout",
     "output_type": "stream",
     "text": [
      "price                 0\n",
      "room_bed             66\n",
      "room_bath            66\n",
      "gender                0\n",
      "living_measure       17\n",
      "lot_measure          42\n",
      "ceil                 42\n",
      "coast                 1\n",
      "sight                57\n",
      "condition            57\n",
      "quality               1\n",
      "ceil_measure          1\n",
      "basement              1\n",
      "yr_built              1\n",
      "yr_renovated          0\n",
      "zipcode               0\n",
      "lat                   0\n",
      "long                  0\n",
      "living_measure15    124\n",
      "lot_measure15        29\n",
      "furnished            29\n",
      "total_area           29\n",
      "year                  0\n",
      "month                 0\n",
      "day                   0\n",
      "hour                  0\n",
      "dtype: int64\n",
      "price                 0\n",
      "room_bed             66\n",
      "room_bath            66\n",
      "gender                0\n",
      "living_measure       17\n",
      "lot_measure          42\n",
      "ceil                 42\n",
      "coast                 1\n",
      "sight                57\n",
      "condition            57\n",
      "quality               1\n",
      "ceil_measure          1\n",
      "basement              1\n",
      "yr_built              1\n",
      "yr_renovated          0\n",
      "zipcode               0\n",
      "lat                   0\n",
      "long                  0\n",
      "living_measure15    124\n",
      "lot_measure15        29\n",
      "furnished            29\n",
      "total_area           29\n",
      "year                  0\n",
      "month                 0\n",
      "day                   0\n",
      "hour                  0\n",
      "dtype: int64\n"
     ]
    }
   ],
   "source": [
    "print(df.isnull().sum())\n",
    "# df.fillna(df.mean(numeric_only=True), inplace=True)\n",
    "# print(df.isnull().sum())\n",
    "\n",
    "# numeric_columns = df.select_dtypes(include='number')\n",
    "# df.fillna(numeric_columns.mean(), inplace=True)\n",
    "# print(df.isnull().sum())\n",
    "\n",
    "# df.dropna(inplace=True)\n",
    "print(df.isnull().sum())"
   ]
  },
  {
   "cell_type": "code",
   "execution_count": 575,
   "id": "526286db",
   "metadata": {},
   "outputs": [
    {
     "name": "stdout",
     "output_type": "stream",
     "text": [
      "[4.0 1.75 'Female' 3050.0 9440.0 1 0 0.0 3 8.0 1800.0 1250.0 1966 0 98034\n",
      " 47.7228 -122.183 2020.0 8660.0 0.0 12490 2015 4 27 0]\n"
     ]
    }
   ],
   "source": [
    "x = df.iloc[:, (df.columns != 'price') & (df.columns != 'dayhours') & (df.columns != 'cid')].values\n",
    "print(x[0])"
   ]
  },
  {
   "cell_type": "code",
   "execution_count": 576,
   "id": "72daa587",
   "metadata": {},
   "outputs": [
    {
     "name": "stdout",
     "output_type": "stream",
     "text": [
      "[[ 600000]\n",
      " [ 190000]\n",
      " [ 735000]\n",
      " ...\n",
      " [ 998000]\n",
      " [ 262000]\n",
      " [1150000]]\n"
     ]
    }
   ],
   "source": [
    "y = df.iloc[:, df.columns == 'price'].values\n",
    "print(y)"
   ]
  },
  {
   "cell_type": "markdown",
   "id": "6b77e99b",
   "metadata": {},
   "source": [
    "## Taking care of missng values"
   ]
  },
  {
   "cell_type": "code",
   "execution_count": 577,
   "id": "07997a26",
   "metadata": {},
   "outputs": [
    {
     "data": {
      "text/plain": [
       "price                 0\n",
       "room_bed             66\n",
       "room_bath            66\n",
       "gender                0\n",
       "living_measure       17\n",
       "lot_measure          42\n",
       "ceil                 42\n",
       "coast                 1\n",
       "sight                57\n",
       "condition            57\n",
       "quality               1\n",
       "ceil_measure          1\n",
       "basement              1\n",
       "yr_built              1\n",
       "yr_renovated          0\n",
       "zipcode               0\n",
       "lat                   0\n",
       "long                  0\n",
       "living_measure15    124\n",
       "lot_measure15        29\n",
       "furnished            29\n",
       "total_area           29\n",
       "year                  0\n",
       "month                 0\n",
       "day                   0\n",
       "hour                  0\n",
       "dtype: int64"
      ]
     },
     "execution_count": 577,
     "metadata": {},
     "output_type": "execute_result"
    }
   ],
   "source": [
    "df.isnull().sum()"
   ]
  },
  {
   "cell_type": "code",
   "execution_count": 578,
   "id": "3aac290d",
   "metadata": {},
   "outputs": [
    {
     "data": {
      "text/plain": [
       "room_bed             66\n",
       "room_bath            66\n",
       "gender                0\n",
       "living_measure       17\n",
       "lot_measure          42\n",
       "ceil                 42\n",
       "coast                 1\n",
       "sight                57\n",
       "condition            57\n",
       "quality               1\n",
       "ceil_measure          1\n",
       "basement              1\n",
       "yr_built              1\n",
       "yr_renovated          0\n",
       "zipcode               0\n",
       "lat                   0\n",
       "long                  0\n",
       "living_measure15    124\n",
       "lot_measure15        29\n",
       "furnished            29\n",
       "total_area           29\n",
       "year                  0\n",
       "month                 0\n",
       "day                   0\n",
       "hour                  0\n",
       "dtype: int64"
      ]
     },
     "execution_count": 578,
     "metadata": {},
     "output_type": "execute_result"
    }
   ],
   "source": [
    "check_nan = df.iloc[:, df.columns != 'price']\n",
    "check_nan.isnull().sum()"
   ]
  },
  {
   "cell_type": "code",
   "execution_count": 579,
   "id": "d5143696",
   "metadata": {
    "scrolled": false
   },
   "outputs": [],
   "source": [
    "from sklearn.impute import SimpleImputer\n",
    "ct = SimpleImputer(strategy = 'mean')\n",
    "ct.fit(x[:, 0:2])\n",
    "x[:, 0:2] = ct.transform(x[:, 0:2])"
   ]
  },
  {
   "cell_type": "code",
   "execution_count": 580,
   "id": "19c8daaa",
   "metadata": {},
   "outputs": [
    {
     "data": {
      "text/plain": [
       "array([4.0, 1.75, 'Female', 3050.0, 9440.0, 1, 0, 0.0, 3, 8.0, 1800.0,\n",
       "       1250.0, 1966, 0, 98034, 47.7228, -122.183, 2020.0, 8660.0, 0.0,\n",
       "       12490, 2015, 4, 27, 0], dtype=object)"
      ]
     },
     "execution_count": 580,
     "metadata": {},
     "output_type": "execute_result"
    }
   ],
   "source": [
    "x[0]"
   ]
  },
  {
   "cell_type": "code",
   "execution_count": 581,
   "id": "69dbf626",
   "metadata": {
    "scrolled": false
   },
   "outputs": [],
   "source": [
    "# x[x == '$'] = '0'"
   ]
  },
  {
   "cell_type": "code",
   "execution_count": 582,
   "id": "446820f2",
   "metadata": {},
   "outputs": [],
   "source": [
    "ct.fit(x[:, 6:])\n",
    "x[:, 6:] = ct.transform(x[:, 6:])"
   ]
  },
  {
   "cell_type": "markdown",
   "id": "d243a17b",
   "metadata": {},
   "source": [
    "## Encoding the categorical Value"
   ]
  },
  {
   "cell_type": "markdown",
   "id": "ceb1b2a8",
   "metadata": {},
   "source": [
    "## Encoding the Independent Variable"
   ]
  },
  {
   "cell_type": "code",
   "execution_count": 583,
   "id": "34275bac",
   "metadata": {},
   "outputs": [],
   "source": [
    "x[x == 'Female'] = 0\n",
    "x[x == 'Male'] = 1"
   ]
  },
  {
   "cell_type": "code",
   "execution_count": 584,
   "id": "087edb2c",
   "metadata": {},
   "outputs": [],
   "source": [
    "# from sklearn.compose import ColumnTransformer\n",
    "# from sklearn.preprocessing import OneHotEncoder\n",
    "# ct = ColumnTransformer(transformers = [('encoder', OneHotEncoder(),categorical_mask )], remainder = 'passthrough')\n",
    "# x_encoded = ct.fit_transform(x)\n",
    "# x = np.array(ct.fit_transform(x))\n",
    "# x_encoded"
   ]
  },
  {
   "cell_type": "code",
   "execution_count": 585,
   "id": "6bbc88e0",
   "metadata": {},
   "outputs": [
    {
     "data": {
      "text/plain": [
       "array([4.0, 1.75, 0, 3050.0, 9440.0, 1, 0.0, 0.0, 3.0, 8.0, 1800.0,\n",
       "       1250.0, 1966.0, 0.0, 98034.0, 47.7228, -122.183, 2020.0, 8660.0,\n",
       "       0.0, 12490.0, 2015.0, 4.0, 27.0, 0.0], dtype=object)"
      ]
     },
     "execution_count": 585,
     "metadata": {},
     "output_type": "execute_result"
    }
   ],
   "source": [
    "x[0]"
   ]
  },
  {
   "cell_type": "markdown",
   "id": "8f29001b",
   "metadata": {},
   "source": [
    "## Splitting the dataset into the training set and testing set"
   ]
  },
  {
   "cell_type": "code",
   "execution_count": 586,
   "id": "009eb8f0",
   "metadata": {},
   "outputs": [],
   "source": [
    "from sklearn.model_selection import train_test_split\n",
    "x_train, x_test, y_train, y_test = train_test_split(x,y, test_size=0.2, random_state =1)"
   ]
  },
  {
   "cell_type": "code",
   "execution_count": 587,
   "id": "35c5e8e6",
   "metadata": {},
   "outputs": [
    {
     "data": {
      "text/plain": [
       "array([[4.0, 1.0, 1, ..., 6.0, 19.0, 0.0],\n",
       "       [4.0, 2.5, 0, ..., 7.0, 24.0, 0.0],\n",
       "       [8.0, 5.0, 1, ..., 12.0, 4.0, 0.0],\n",
       "       ...,\n",
       "       [2.0, 1.75, 1, ..., 9.0, 15.0, 0.0],\n",
       "       [4.0, 2.25, 1, ..., 12.0, 15.0, 0.0],\n",
       "       [3.0, 1.5, 1, ..., 8.0, 15.0, 0.0]], dtype=object)"
      ]
     },
     "execution_count": 587,
     "metadata": {},
     "output_type": "execute_result"
    }
   ],
   "source": [
    "x_train"
   ]
  },
  {
   "cell_type": "code",
   "execution_count": 588,
   "id": "87513589",
   "metadata": {},
   "outputs": [
    {
     "data": {
      "text/plain": [
       "array([[2.0, 2.5, 0, ..., 2.0, 13.0, 0.0],\n",
       "       [3.0, 2.5, 1, ..., 5.0, 16.0, 0.0],\n",
       "       [3.0, 2.25, 0, ..., 11.0, 12.0, 0.0],\n",
       "       ...,\n",
       "       [2.0, 1.0, 0, ..., 8.0, 19.0, 0.0],\n",
       "       [3.0, 3.5, 0, ..., 9.0, 12.0, 0.0],\n",
       "       [3.0, 1.5, 0, ..., 3.0, 27.0, 0.0]], dtype=object)"
      ]
     },
     "execution_count": 588,
     "metadata": {},
     "output_type": "execute_result"
    }
   ],
   "source": [
    "x_test"
   ]
  },
  {
   "cell_type": "code",
   "execution_count": 589,
   "id": "485d318f",
   "metadata": {},
   "outputs": [
    {
     "data": {
      "text/plain": [
       "array([[395000],\n",
       "       [672000],\n",
       "       [490000],\n",
       "       ...,\n",
       "       [766500],\n",
       "       [734000],\n",
       "       [259950]], dtype=int64)"
      ]
     },
     "execution_count": 589,
     "metadata": {},
     "output_type": "execute_result"
    }
   ],
   "source": [
    "y_train"
   ]
  },
  {
   "cell_type": "code",
   "execution_count": 590,
   "id": "a55b7460",
   "metadata": {},
   "outputs": [
    {
     "data": {
      "text/plain": [
       "array([[400000],\n",
       "       [425000],\n",
       "       [490000],\n",
       "       ...,\n",
       "       [255000],\n",
       "       [496000],\n",
       "       [552500]], dtype=int64)"
      ]
     },
     "execution_count": 590,
     "metadata": {},
     "output_type": "execute_result"
    }
   ],
   "source": [
    "y_test"
   ]
  },
  {
   "cell_type": "markdown",
   "id": "84112ae3",
   "metadata": {},
   "source": [
    "## Feature Scaling"
   ]
  },
  {
   "cell_type": "code",
   "execution_count": 591,
   "id": "360ab001",
   "metadata": {},
   "outputs": [],
   "source": [
    "# from sklearn.preprocessing import StandardScaler\n",
    "# sc = StandardScaler()\n",
    "# x_train[:,:] = sc.fit_transform(x_train[:,:])\n",
    "# x_test[:,:] = sc.fit_transform(x_test[:,:])"
   ]
  },
  {
   "cell_type": "code",
   "execution_count": 592,
   "id": "67abe4ad",
   "metadata": {},
   "outputs": [
    {
     "data": {
      "text/plain": [
       "array([[4.0, 1.0, 1, ..., 6.0, 19.0, 0.0],\n",
       "       [4.0, 2.5, 0, ..., 7.0, 24.0, 0.0],\n",
       "       [8.0, 5.0, 1, ..., 12.0, 4.0, 0.0],\n",
       "       ...,\n",
       "       [2.0, 1.75, 1, ..., 9.0, 15.0, 0.0],\n",
       "       [4.0, 2.25, 1, ..., 12.0, 15.0, 0.0],\n",
       "       [3.0, 1.5, 1, ..., 8.0, 15.0, 0.0]], dtype=object)"
      ]
     },
     "execution_count": 592,
     "metadata": {},
     "output_type": "execute_result"
    }
   ],
   "source": [
    "x_train"
   ]
  },
  {
   "cell_type": "code",
   "execution_count": 593,
   "id": "d9eb6d66",
   "metadata": {},
   "outputs": [
    {
     "data": {
      "text/plain": [
       "array([[2.0, 2.5, 0, ..., 2.0, 13.0, 0.0],\n",
       "       [3.0, 2.5, 1, ..., 5.0, 16.0, 0.0],\n",
       "       [3.0, 2.25, 0, ..., 11.0, 12.0, 0.0],\n",
       "       ...,\n",
       "       [2.0, 1.0, 0, ..., 8.0, 19.0, 0.0],\n",
       "       [3.0, 3.5, 0, ..., 9.0, 12.0, 0.0],\n",
       "       [3.0, 1.5, 0, ..., 3.0, 27.0, 0.0]], dtype=object)"
      ]
     },
     "execution_count": 593,
     "metadata": {},
     "output_type": "execute_result"
    }
   ],
   "source": [
    "x_test"
   ]
  },
  {
   "cell_type": "code",
   "execution_count": 594,
   "id": "75ec0b26",
   "metadata": {},
   "outputs": [
    {
     "ename": "ValueError",
     "evalue": "Input contains NaN, infinity or a value too large for dtype('float64').",
     "output_type": "error",
     "traceback": [
      "\u001b[1;31m---------------------------------------------------------------------------\u001b[0m",
      "\u001b[1;31mValueError\u001b[0m                                Traceback (most recent call last)",
      "\u001b[1;32m~\\AppData\\Local\\Temp\\ipykernel_9088\\3720071279.py\u001b[0m in \u001b[0;36m<module>\u001b[1;34m\u001b[0m\n\u001b[0;32m      1\u001b[0m \u001b[1;32mfrom\u001b[0m \u001b[0msklearn\u001b[0m\u001b[1;33m.\u001b[0m\u001b[0mlinear_model\u001b[0m \u001b[1;32mimport\u001b[0m \u001b[0mLinearRegression\u001b[0m\u001b[1;33m\u001b[0m\u001b[1;33m\u001b[0m\u001b[0m\n\u001b[0;32m      2\u001b[0m \u001b[0mregressor\u001b[0m \u001b[1;33m=\u001b[0m \u001b[0mLinearRegression\u001b[0m\u001b[1;33m(\u001b[0m\u001b[1;33m)\u001b[0m\u001b[1;33m\u001b[0m\u001b[1;33m\u001b[0m\u001b[0m\n\u001b[1;32m----> 3\u001b[1;33m \u001b[0mregressor\u001b[0m\u001b[1;33m.\u001b[0m\u001b[0mfit\u001b[0m\u001b[1;33m(\u001b[0m\u001b[0mx_train\u001b[0m\u001b[1;33m,\u001b[0m\u001b[0my_train\u001b[0m\u001b[1;33m)\u001b[0m\u001b[1;33m\u001b[0m\u001b[1;33m\u001b[0m\u001b[0m\n\u001b[0m",
      "\u001b[1;32m~\\anaconda3\\lib\\site-packages\\sklearn\\linear_model\\_base.py\u001b[0m in \u001b[0;36mfit\u001b[1;34m(self, X, y, sample_weight)\u001b[0m\n\u001b[0;32m    660\u001b[0m         \u001b[0maccept_sparse\u001b[0m \u001b[1;33m=\u001b[0m \u001b[1;32mFalse\u001b[0m \u001b[1;32mif\u001b[0m \u001b[0mself\u001b[0m\u001b[1;33m.\u001b[0m\u001b[0mpositive\u001b[0m \u001b[1;32melse\u001b[0m \u001b[1;33m[\u001b[0m\u001b[1;34m\"csr\"\u001b[0m\u001b[1;33m,\u001b[0m \u001b[1;34m\"csc\"\u001b[0m\u001b[1;33m,\u001b[0m \u001b[1;34m\"coo\"\u001b[0m\u001b[1;33m]\u001b[0m\u001b[1;33m\u001b[0m\u001b[1;33m\u001b[0m\u001b[0m\n\u001b[0;32m    661\u001b[0m \u001b[1;33m\u001b[0m\u001b[0m\n\u001b[1;32m--> 662\u001b[1;33m         X, y = self._validate_data(\n\u001b[0m\u001b[0;32m    663\u001b[0m             \u001b[0mX\u001b[0m\u001b[1;33m,\u001b[0m \u001b[0my\u001b[0m\u001b[1;33m,\u001b[0m \u001b[0maccept_sparse\u001b[0m\u001b[1;33m=\u001b[0m\u001b[0maccept_sparse\u001b[0m\u001b[1;33m,\u001b[0m \u001b[0my_numeric\u001b[0m\u001b[1;33m=\u001b[0m\u001b[1;32mTrue\u001b[0m\u001b[1;33m,\u001b[0m \u001b[0mmulti_output\u001b[0m\u001b[1;33m=\u001b[0m\u001b[1;32mTrue\u001b[0m\u001b[1;33m\u001b[0m\u001b[1;33m\u001b[0m\u001b[0m\n\u001b[0;32m    664\u001b[0m         )\n",
      "\u001b[1;32m~\\anaconda3\\lib\\site-packages\\sklearn\\base.py\u001b[0m in \u001b[0;36m_validate_data\u001b[1;34m(self, X, y, reset, validate_separately, **check_params)\u001b[0m\n\u001b[0;32m    579\u001b[0m                 \u001b[0my\u001b[0m \u001b[1;33m=\u001b[0m \u001b[0mcheck_array\u001b[0m\u001b[1;33m(\u001b[0m\u001b[0my\u001b[0m\u001b[1;33m,\u001b[0m \u001b[1;33m**\u001b[0m\u001b[0mcheck_y_params\u001b[0m\u001b[1;33m)\u001b[0m\u001b[1;33m\u001b[0m\u001b[1;33m\u001b[0m\u001b[0m\n\u001b[0;32m    580\u001b[0m             \u001b[1;32melse\u001b[0m\u001b[1;33m:\u001b[0m\u001b[1;33m\u001b[0m\u001b[1;33m\u001b[0m\u001b[0m\n\u001b[1;32m--> 581\u001b[1;33m                 \u001b[0mX\u001b[0m\u001b[1;33m,\u001b[0m \u001b[0my\u001b[0m \u001b[1;33m=\u001b[0m \u001b[0mcheck_X_y\u001b[0m\u001b[1;33m(\u001b[0m\u001b[0mX\u001b[0m\u001b[1;33m,\u001b[0m \u001b[0my\u001b[0m\u001b[1;33m,\u001b[0m \u001b[1;33m**\u001b[0m\u001b[0mcheck_params\u001b[0m\u001b[1;33m)\u001b[0m\u001b[1;33m\u001b[0m\u001b[1;33m\u001b[0m\u001b[0m\n\u001b[0m\u001b[0;32m    582\u001b[0m             \u001b[0mout\u001b[0m \u001b[1;33m=\u001b[0m \u001b[0mX\u001b[0m\u001b[1;33m,\u001b[0m \u001b[0my\u001b[0m\u001b[1;33m\u001b[0m\u001b[1;33m\u001b[0m\u001b[0m\n\u001b[0;32m    583\u001b[0m \u001b[1;33m\u001b[0m\u001b[0m\n",
      "\u001b[1;32m~\\anaconda3\\lib\\site-packages\\sklearn\\utils\\validation.py\u001b[0m in \u001b[0;36mcheck_X_y\u001b[1;34m(X, y, accept_sparse, accept_large_sparse, dtype, order, copy, force_all_finite, ensure_2d, allow_nd, multi_output, ensure_min_samples, ensure_min_features, y_numeric, estimator)\u001b[0m\n\u001b[0;32m    962\u001b[0m         \u001b[1;32mraise\u001b[0m \u001b[0mValueError\u001b[0m\u001b[1;33m(\u001b[0m\u001b[1;34m\"y cannot be None\"\u001b[0m\u001b[1;33m)\u001b[0m\u001b[1;33m\u001b[0m\u001b[1;33m\u001b[0m\u001b[0m\n\u001b[0;32m    963\u001b[0m \u001b[1;33m\u001b[0m\u001b[0m\n\u001b[1;32m--> 964\u001b[1;33m     X = check_array(\n\u001b[0m\u001b[0;32m    965\u001b[0m         \u001b[0mX\u001b[0m\u001b[1;33m,\u001b[0m\u001b[1;33m\u001b[0m\u001b[1;33m\u001b[0m\u001b[0m\n\u001b[0;32m    966\u001b[0m         \u001b[0maccept_sparse\u001b[0m\u001b[1;33m=\u001b[0m\u001b[0maccept_sparse\u001b[0m\u001b[1;33m,\u001b[0m\u001b[1;33m\u001b[0m\u001b[1;33m\u001b[0m\u001b[0m\n",
      "\u001b[1;32m~\\anaconda3\\lib\\site-packages\\sklearn\\utils\\validation.py\u001b[0m in \u001b[0;36mcheck_array\u001b[1;34m(array, accept_sparse, accept_large_sparse, dtype, order, copy, force_all_finite, ensure_2d, allow_nd, ensure_min_samples, ensure_min_features, estimator)\u001b[0m\n\u001b[0;32m    798\u001b[0m \u001b[1;33m\u001b[0m\u001b[0m\n\u001b[0;32m    799\u001b[0m         \u001b[1;32mif\u001b[0m \u001b[0mforce_all_finite\u001b[0m\u001b[1;33m:\u001b[0m\u001b[1;33m\u001b[0m\u001b[1;33m\u001b[0m\u001b[0m\n\u001b[1;32m--> 800\u001b[1;33m             \u001b[0m_assert_all_finite\u001b[0m\u001b[1;33m(\u001b[0m\u001b[0marray\u001b[0m\u001b[1;33m,\u001b[0m \u001b[0mallow_nan\u001b[0m\u001b[1;33m=\u001b[0m\u001b[0mforce_all_finite\u001b[0m \u001b[1;33m==\u001b[0m \u001b[1;34m\"allow-nan\"\u001b[0m\u001b[1;33m)\u001b[0m\u001b[1;33m\u001b[0m\u001b[1;33m\u001b[0m\u001b[0m\n\u001b[0m\u001b[0;32m    801\u001b[0m \u001b[1;33m\u001b[0m\u001b[0m\n\u001b[0;32m    802\u001b[0m     \u001b[1;32mif\u001b[0m \u001b[0mensure_min_samples\u001b[0m \u001b[1;33m>\u001b[0m \u001b[1;36m0\u001b[0m\u001b[1;33m:\u001b[0m\u001b[1;33m\u001b[0m\u001b[1;33m\u001b[0m\u001b[0m\n",
      "\u001b[1;32m~\\anaconda3\\lib\\site-packages\\sklearn\\utils\\validation.py\u001b[0m in \u001b[0;36m_assert_all_finite\u001b[1;34m(X, allow_nan, msg_dtype)\u001b[0m\n\u001b[0;32m    112\u001b[0m         ):\n\u001b[0;32m    113\u001b[0m             \u001b[0mtype_err\u001b[0m \u001b[1;33m=\u001b[0m \u001b[1;34m\"infinity\"\u001b[0m \u001b[1;32mif\u001b[0m \u001b[0mallow_nan\u001b[0m \u001b[1;32melse\u001b[0m \u001b[1;34m\"NaN, infinity\"\u001b[0m\u001b[1;33m\u001b[0m\u001b[1;33m\u001b[0m\u001b[0m\n\u001b[1;32m--> 114\u001b[1;33m             raise ValueError(\n\u001b[0m\u001b[0;32m    115\u001b[0m                 msg_err.format(\n\u001b[0;32m    116\u001b[0m                     \u001b[0mtype_err\u001b[0m\u001b[1;33m,\u001b[0m \u001b[0mmsg_dtype\u001b[0m \u001b[1;32mif\u001b[0m \u001b[0mmsg_dtype\u001b[0m \u001b[1;32mis\u001b[0m \u001b[1;32mnot\u001b[0m \u001b[1;32mNone\u001b[0m \u001b[1;32melse\u001b[0m \u001b[0mX\u001b[0m\u001b[1;33m.\u001b[0m\u001b[0mdtype\u001b[0m\u001b[1;33m\u001b[0m\u001b[1;33m\u001b[0m\u001b[0m\n",
      "\u001b[1;31mValueError\u001b[0m: Input contains NaN, infinity or a value too large for dtype('float64')."
     ]
    }
   ],
   "source": [
    "from sklearn.linear_model import LinearRegression\n",
    "regressor = LinearRegression()\n",
    "regressor.fit(x_train,y_train)"
   ]
  },
  {
   "cell_type": "code",
   "execution_count": null,
   "id": "eeae4f97",
   "metadata": {},
   "outputs": [],
   "source": [
    "regressor.score(x_test,y_test)"
   ]
  },
  {
   "cell_type": "code",
   "execution_count": null,
   "id": "34278000",
   "metadata": {},
   "outputs": [],
   "source": [
    "# Predict house prices on the test set\n",
    "y_pred = regressor.predict(x_test)"
   ]
  },
  {
   "cell_type": "code",
   "execution_count": null,
   "id": "ea179b85",
   "metadata": {},
   "outputs": [],
   "source": [
    "# Evaluate the model using metrics\n",
    "from sklearn.metrics import mean_squared_error, r2_score\n",
    "mse = mean_squared_error(y_test, y_pred)\n",
    "r2 = r2_score(y_test, y_pred)"
   ]
  },
  {
   "cell_type": "code",
   "execution_count": null,
   "id": "46f1f4a9",
   "metadata": {},
   "outputs": [],
   "source": [
    "print(\"Mean Squared Error(MSE):\", mse)\n",
    "print(\"R-squared (R2) Score:\", r2)"
   ]
  },
  {
   "cell_type": "code",
   "execution_count": null,
   "id": "219b4922",
   "metadata": {},
   "outputs": [],
   "source": []
  },
  {
   "cell_type": "code",
   "execution_count": null,
   "id": "d9350b35",
   "metadata": {},
   "outputs": [],
   "source": [
    "from sklearn.ensemble import RandomForestRegressor\n",
    "regressor = RandomForestRegressor(n_estimators = 10, random_state = 0)\n",
    "regressor.fit(x_train,y_train)\n",
    "\n",
    "# rf_predictions = regressor.predict(x_test)"
   ]
  },
  {
   "cell_type": "code",
   "execution_count": null,
   "id": "c39f36b7",
   "metadata": {},
   "outputs": [],
   "source": [
    "regressor.score(x_test, y_test)"
   ]
  },
  {
   "cell_type": "code",
   "execution_count": null,
   "id": "02f65583",
   "metadata": {},
   "outputs": [],
   "source": [
    "# Predict house prices on the test set\n",
    "y_pred = regressor.predict(x_test)"
   ]
  },
  {
   "cell_type": "code",
   "execution_count": null,
   "id": "40d8bbcd",
   "metadata": {},
   "outputs": [],
   "source": [
    "# Evaluate the model using metrics\n",
    "from sklearn.metrics import mean_squared_error, r2_score\n",
    "mse = mean_squared_error(y_test, y_pred)\n",
    "r2 = r2_score(y_test, y_pred)"
   ]
  },
  {
   "cell_type": "code",
   "execution_count": null,
   "id": "9140c3f0",
   "metadata": {},
   "outputs": [],
   "source": [
    "print(\"Mean Squared Error(MSE):\", mse)\n",
    "print(\"R-squared (R2) Score:\", r2)"
   ]
  }
 ],
 "metadata": {
  "kernelspec": {
   "display_name": "Python 3 (ipykernel)",
   "language": "python",
   "name": "python3"
  },
  "language_info": {
   "codemirror_mode": {
    "name": "ipython",
    "version": 3
   },
   "file_extension": ".py",
   "mimetype": "text/x-python",
   "name": "python",
   "nbconvert_exporter": "python",
   "pygments_lexer": "ipython3",
   "version": "3.9.13"
  }
 },
 "nbformat": 4,
 "nbformat_minor": 5
}
