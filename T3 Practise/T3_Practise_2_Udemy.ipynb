{
 "cells": [
  {
   "cell_type": "markdown",
   "id": "64f3f751",
   "metadata": {},
   "source": [
    "# Data Preprocessing in Python"
   ]
  },
  {
   "cell_type": "markdown",
   "id": "9ce103c4",
   "metadata": {},
   "source": [
    "## Importing the libraries"
   ]
  },
  {
   "cell_type": "code",
   "execution_count": 1,
   "id": "33f1201b",
   "metadata": {},
   "outputs": [],
   "source": [
    "import pandas as pd\n",
    "import numpy as np\n",
    "import matplotlib.pyplot as plt"
   ]
  },
  {
   "cell_type": "markdown",
   "id": "eda12e35",
   "metadata": {},
   "source": [
    "## Importing the datasets"
   ]
  },
  {
   "cell_type": "code",
   "execution_count": 2,
   "id": "82ab9011",
   "metadata": {},
   "outputs": [
    {
     "data": {
      "text/html": [
       "<div>\n",
       "<style scoped>\n",
       "    .dataframe tbody tr th:only-of-type {\n",
       "        vertical-align: middle;\n",
       "    }\n",
       "\n",
       "    .dataframe tbody tr th {\n",
       "        vertical-align: top;\n",
       "    }\n",
       "\n",
       "    .dataframe thead th {\n",
       "        text-align: right;\n",
       "    }\n",
       "</style>\n",
       "<table border=\"1\" class=\"dataframe\">\n",
       "  <thead>\n",
       "    <tr style=\"text-align: right;\">\n",
       "      <th></th>\n",
       "      <th>price</th>\n",
       "      <th>room_bed</th>\n",
       "      <th>room_bath</th>\n",
       "      <th>gender</th>\n",
       "      <th>living_measure</th>\n",
       "      <th>lot_measure</th>\n",
       "      <th>ceil</th>\n",
       "      <th>coast</th>\n",
       "      <th>sight</th>\n",
       "      <th>condition</th>\n",
       "      <th>...</th>\n",
       "      <th>lat</th>\n",
       "      <th>long</th>\n",
       "      <th>living_measure15</th>\n",
       "      <th>lot_measure15</th>\n",
       "      <th>furnished</th>\n",
       "      <th>total_area</th>\n",
       "      <th>year</th>\n",
       "      <th>month</th>\n",
       "      <th>day</th>\n",
       "      <th>hour</th>\n",
       "    </tr>\n",
       "  </thead>\n",
       "  <tbody>\n",
       "    <tr>\n",
       "      <th>0</th>\n",
       "      <td>600000</td>\n",
       "      <td>4.0</td>\n",
       "      <td>1.75</td>\n",
       "      <td>Female</td>\n",
       "      <td>3050.0</td>\n",
       "      <td>9440.0</td>\n",
       "      <td>1</td>\n",
       "      <td>0</td>\n",
       "      <td>0.0</td>\n",
       "      <td>3</td>\n",
       "      <td>...</td>\n",
       "      <td>47.7228</td>\n",
       "      <td>-122.183</td>\n",
       "      <td>2020.0</td>\n",
       "      <td>8660.0</td>\n",
       "      <td>0.0</td>\n",
       "      <td>12490</td>\n",
       "      <td>2015</td>\n",
       "      <td>4</td>\n",
       "      <td>27</td>\n",
       "      <td>0</td>\n",
       "    </tr>\n",
       "    <tr>\n",
       "      <th>1</th>\n",
       "      <td>190000</td>\n",
       "      <td>2.0</td>\n",
       "      <td>1.00</td>\n",
       "      <td>Male</td>\n",
       "      <td>670.0</td>\n",
       "      <td>3101.0</td>\n",
       "      <td>1</td>\n",
       "      <td>0</td>\n",
       "      <td>0.0</td>\n",
       "      <td>4</td>\n",
       "      <td>...</td>\n",
       "      <td>47.5546</td>\n",
       "      <td>-122.274</td>\n",
       "      <td>1660.0</td>\n",
       "      <td>4100.0</td>\n",
       "      <td>0.0</td>\n",
       "      <td>3771</td>\n",
       "      <td>2015</td>\n",
       "      <td>3</td>\n",
       "      <td>17</td>\n",
       "      <td>0</td>\n",
       "    </tr>\n",
       "    <tr>\n",
       "      <th>2</th>\n",
       "      <td>735000</td>\n",
       "      <td>4.0</td>\n",
       "      <td>2.75</td>\n",
       "      <td>Female</td>\n",
       "      <td>3040.0</td>\n",
       "      <td>2415.0</td>\n",
       "      <td>2</td>\n",
       "      <td>1</td>\n",
       "      <td>4.0</td>\n",
       "      <td>3</td>\n",
       "      <td>...</td>\n",
       "      <td>47.5188</td>\n",
       "      <td>-122.256</td>\n",
       "      <td>2620.0</td>\n",
       "      <td>2433.0</td>\n",
       "      <td>0.0</td>\n",
       "      <td>5455</td>\n",
       "      <td>2014</td>\n",
       "      <td>8</td>\n",
       "      <td>20</td>\n",
       "      <td>0</td>\n",
       "    </tr>\n",
       "    <tr>\n",
       "      <th>3</th>\n",
       "      <td>257000</td>\n",
       "      <td>3.0</td>\n",
       "      <td>2.50</td>\n",
       "      <td>Male</td>\n",
       "      <td>1740.0</td>\n",
       "      <td>3721.0</td>\n",
       "      <td>2</td>\n",
       "      <td>0</td>\n",
       "      <td>0.0</td>\n",
       "      <td>3</td>\n",
       "      <td>...</td>\n",
       "      <td>47.3363</td>\n",
       "      <td>-122.213</td>\n",
       "      <td>2030.0</td>\n",
       "      <td>3794.0</td>\n",
       "      <td>0.0</td>\n",
       "      <td>5461</td>\n",
       "      <td>2014</td>\n",
       "      <td>10</td>\n",
       "      <td>10</td>\n",
       "      <td>0</td>\n",
       "    </tr>\n",
       "    <tr>\n",
       "      <th>4</th>\n",
       "      <td>450000</td>\n",
       "      <td>2.0</td>\n",
       "      <td>1.00</td>\n",
       "      <td>Female</td>\n",
       "      <td>1120.0</td>\n",
       "      <td>4590.0</td>\n",
       "      <td>1</td>\n",
       "      <td>0</td>\n",
       "      <td>0.0</td>\n",
       "      <td>3</td>\n",
       "      <td>...</td>\n",
       "      <td>47.5663</td>\n",
       "      <td>-122.285</td>\n",
       "      <td>1120.0</td>\n",
       "      <td>5100.0</td>\n",
       "      <td>0.0</td>\n",
       "      <td>5710</td>\n",
       "      <td>2015</td>\n",
       "      <td>2</td>\n",
       "      <td>18</td>\n",
       "      <td>0</td>\n",
       "    </tr>\n",
       "  </tbody>\n",
       "</table>\n",
       "<p>5 rows × 26 columns</p>\n",
       "</div>"
      ],
      "text/plain": [
       "    price  room_bed  room_bath  gender  living_measure  lot_measure ceil  \\\n",
       "0  600000       4.0       1.75  Female          3050.0       9440.0    1   \n",
       "1  190000       2.0       1.00    Male           670.0       3101.0    1   \n",
       "2  735000       4.0       2.75  Female          3040.0       2415.0    2   \n",
       "3  257000       3.0       2.50    Male          1740.0       3721.0    2   \n",
       "4  450000       2.0       1.00  Female          1120.0       4590.0    1   \n",
       "\n",
       "  coast  sight condition  ...      lat     long  living_measure15  \\\n",
       "0     0    0.0         3  ...  47.7228 -122.183            2020.0   \n",
       "1     0    0.0         4  ...  47.5546 -122.274            1660.0   \n",
       "2     1    4.0         3  ...  47.5188 -122.256            2620.0   \n",
       "3     0    0.0         3  ...  47.3363 -122.213            2030.0   \n",
       "4     0    0.0         3  ...  47.5663 -122.285            1120.0   \n",
       "\n",
       "  lot_measure15  furnished  total_area  year month  day  hour  \n",
       "0        8660.0        0.0       12490  2015     4   27     0  \n",
       "1        4100.0        0.0        3771  2015     3   17     0  \n",
       "2        2433.0        0.0        5455  2014     8   20     0  \n",
       "3        3794.0        0.0        5461  2014    10   10     0  \n",
       "4        5100.0        0.0        5710  2015     2   18     0  \n",
       "\n",
       "[5 rows x 26 columns]"
      ]
     },
     "execution_count": 2,
     "metadata": {},
     "output_type": "execute_result"
    }
   ],
   "source": [
    "df = pd.read_excel('innercity.xlsx')\n",
    "df['dayhours'] = pd.to_datetime(df['dayhours'])\n",
    "df['year'] = df['dayhours'].dt.year\n",
    "df['month'] = df['dayhours'].dt.month\n",
    "df['day'] = df['dayhours'].dt.day\n",
    "df['hour'] = df['dayhours'].dt.hour\n",
    "categorical_mask = (df.dtypes == object) \n",
    "# Remove the original 'dayhours' column\n",
    "df = df.drop(columns=['dayhours'])\n",
    "# Drop 'cid' column\n",
    "df = df.drop(columns=['cid'])\n",
    "df = df[~df.apply(lambda row: row.astype(str).str.contains('$',regex=False)).any(axis=1)]\n",
    "df.head()"
   ]
  },
  {
   "cell_type": "code",
   "execution_count": 3,
   "id": "97f2265a",
   "metadata": {
    "scrolled": false
   },
   "outputs": [
    {
     "name": "stdout",
     "output_type": "stream",
     "text": [
      "price                 0\n",
      "room_bed             66\n",
      "room_bath            66\n",
      "gender                0\n",
      "living_measure       17\n",
      "lot_measure          42\n",
      "ceil                 42\n",
      "coast                 1\n",
      "sight                57\n",
      "condition            57\n",
      "quality               1\n",
      "ceil_measure          1\n",
      "basement              1\n",
      "yr_built              1\n",
      "yr_renovated          0\n",
      "zipcode               0\n",
      "lat                   0\n",
      "long                  0\n",
      "living_measure15    124\n",
      "lot_measure15        29\n",
      "furnished            29\n",
      "total_area           29\n",
      "year                  0\n",
      "month                 0\n",
      "day                   0\n",
      "hour                  0\n",
      "dtype: int64\n",
      "price                 0\n",
      "room_bed             66\n",
      "room_bath            66\n",
      "gender                0\n",
      "living_measure       17\n",
      "lot_measure          42\n",
      "ceil                 42\n",
      "coast                 1\n",
      "sight                57\n",
      "condition            57\n",
      "quality               1\n",
      "ceil_measure          1\n",
      "basement              1\n",
      "yr_built              1\n",
      "yr_renovated          0\n",
      "zipcode               0\n",
      "lat                   0\n",
      "long                  0\n",
      "living_measure15    124\n",
      "lot_measure15        29\n",
      "furnished            29\n",
      "total_area           29\n",
      "year                  0\n",
      "month                 0\n",
      "day                   0\n",
      "hour                  0\n",
      "dtype: int64\n"
     ]
    }
   ],
   "source": [
    "print(df.isnull().sum())\n",
    "# df.fillna(df.mean(numeric_only=True), inplace=True)\n",
    "# print(df.isnull().sum())\n",
    "\n",
    "# numeric_columns = df.select_dtypes(include='number')\n",
    "# df.fillna(numeric_columns.mean(), inplace=True)\n",
    "# print(df.isnull().sum())\n",
    "\n",
    "# df.dropna(inplace=True)\n",
    "print(df.isnull().sum())"
   ]
  },
  {
   "cell_type": "code",
   "execution_count": 4,
   "id": "526286db",
   "metadata": {},
   "outputs": [
    {
     "name": "stdout",
     "output_type": "stream",
     "text": [
      "[4.0 1.75 'Female' 3050.0 9440.0 1 0 0.0 3 8.0 1800.0 1250.0 1966 0 98034\n",
      " 47.7228 -122.183 2020.0 8660.0 0.0 12490 2015 4 27 0]\n"
     ]
    }
   ],
   "source": [
    "x = df.iloc[:, (df.columns != 'price') & (df.columns != 'dayhours') & (df.columns != 'cid')].values\n",
    "print(x[0])"
   ]
  },
  {
   "cell_type": "code",
   "execution_count": 5,
   "id": "72daa587",
   "metadata": {},
   "outputs": [
    {
     "name": "stdout",
     "output_type": "stream",
     "text": [
      "[[ 600000]\n",
      " [ 190000]\n",
      " [ 735000]\n",
      " ...\n",
      " [ 998000]\n",
      " [ 262000]\n",
      " [1150000]]\n"
     ]
    }
   ],
   "source": [
    "y = df.iloc[:, df.columns == 'price'].values\n",
    "print(y)"
   ]
  },
  {
   "cell_type": "markdown",
   "id": "6b77e99b",
   "metadata": {},
   "source": [
    "## Taking care of missng values"
   ]
  },
  {
   "cell_type": "code",
   "execution_count": 6,
   "id": "07997a26",
   "metadata": {},
   "outputs": [
    {
     "data": {
      "text/plain": [
       "price                 0\n",
       "room_bed             66\n",
       "room_bath            66\n",
       "gender                0\n",
       "living_measure       17\n",
       "lot_measure          42\n",
       "ceil                 42\n",
       "coast                 1\n",
       "sight                57\n",
       "condition            57\n",
       "quality               1\n",
       "ceil_measure          1\n",
       "basement              1\n",
       "yr_built              1\n",
       "yr_renovated          0\n",
       "zipcode               0\n",
       "lat                   0\n",
       "long                  0\n",
       "living_measure15    124\n",
       "lot_measure15        29\n",
       "furnished            29\n",
       "total_area           29\n",
       "year                  0\n",
       "month                 0\n",
       "day                   0\n",
       "hour                  0\n",
       "dtype: int64"
      ]
     },
     "execution_count": 6,
     "metadata": {},
     "output_type": "execute_result"
    }
   ],
   "source": [
    "df.isnull().sum()"
   ]
  },
  {
   "cell_type": "code",
   "execution_count": 7,
   "id": "3aac290d",
   "metadata": {},
   "outputs": [
    {
     "data": {
      "text/plain": [
       "room_bed             66\n",
       "room_bath            66\n",
       "gender                0\n",
       "living_measure       17\n",
       "lot_measure          42\n",
       "ceil                 42\n",
       "coast                 1\n",
       "sight                57\n",
       "condition            57\n",
       "quality               1\n",
       "ceil_measure          1\n",
       "basement              1\n",
       "yr_built              1\n",
       "yr_renovated          0\n",
       "zipcode               0\n",
       "lat                   0\n",
       "long                  0\n",
       "living_measure15    124\n",
       "lot_measure15        29\n",
       "furnished            29\n",
       "total_area           29\n",
       "year                  0\n",
       "month                 0\n",
       "day                   0\n",
       "hour                  0\n",
       "dtype: int64"
      ]
     },
     "execution_count": 7,
     "metadata": {},
     "output_type": "execute_result"
    }
   ],
   "source": [
    "check_nan = df.iloc[:, df.columns != 'price']\n",
    "check_nan.isnull().sum()"
   ]
  },
  {
   "cell_type": "code",
   "execution_count": 8,
   "id": "d5143696",
   "metadata": {
    "scrolled": false
   },
   "outputs": [],
   "source": [
    "from sklearn.impute import SimpleImputer\n",
    "ct = SimpleImputer(strategy = 'mean')\n",
    "ct.fit(x[:, 0:2])\n",
    "x[:, 0:2] = ct.transform(x[:, 0:2])"
   ]
  },
  {
   "cell_type": "code",
   "execution_count": 9,
   "id": "82defb18",
   "metadata": {},
   "outputs": [],
   "source": [
    "cts = SimpleImputer(strategy = 'mean')\n",
    "cts.fit(x[:, 3:6])\n",
    "x[:, 3:6] = cts.transform(x[:, 3:6])"
   ]
  },
  {
   "cell_type": "code",
   "execution_count": 10,
   "id": "69dbf626",
   "metadata": {
    "scrolled": false
   },
   "outputs": [],
   "source": [
    "# x[x == '$'] = '0'"
   ]
  },
  {
   "cell_type": "code",
   "execution_count": 11,
   "id": "446820f2",
   "metadata": {},
   "outputs": [],
   "source": [
    "ct.fit(x[:, 6:])\n",
    "x[:, 6:] = ct.transform(x[:, 6:])"
   ]
  },
  {
   "cell_type": "markdown",
   "id": "d243a17b",
   "metadata": {},
   "source": [
    "## Encoding the categorical Value"
   ]
  },
  {
   "cell_type": "markdown",
   "id": "ceb1b2a8",
   "metadata": {},
   "source": [
    "## Encoding the Independent Variable"
   ]
  },
  {
   "cell_type": "code",
   "execution_count": 12,
   "id": "34275bac",
   "metadata": {},
   "outputs": [],
   "source": [
    "x[x == 'Female'] = 0\n",
    "x[x == 'Male'] = 1"
   ]
  },
  {
   "cell_type": "code",
   "execution_count": 13,
   "id": "087edb2c",
   "metadata": {},
   "outputs": [],
   "source": [
    "# from sklearn.compose import ColumnTransformer\n",
    "# from sklearn.preprocessing import OneHotEncoder\n",
    "# ct = ColumnTransformer(transformers = [('encoder', OneHotEncoder(),categorical_mask )], remainder = 'passthrough')\n",
    "# x_encoded = ct.fit_transform(x)\n",
    "# x = np.array(ct.fit_transform(x))\n",
    "# x_encoded"
   ]
  },
  {
   "cell_type": "code",
   "execution_count": 14,
   "id": "6bbc88e0",
   "metadata": {},
   "outputs": [
    {
     "data": {
      "text/plain": [
       "array([4.0, 1.75, 0, 3050.0, 9440.0, 1.0, 0.0, 0.0, 3.0, 8.0, 1800.0,\n",
       "       1250.0, 1966.0, 0.0, 98034.0, 47.7228, -122.183, 2020.0, 8660.0,\n",
       "       0.0, 12490.0, 2015.0, 4.0, 27.0, 0.0], dtype=object)"
      ]
     },
     "execution_count": 14,
     "metadata": {},
     "output_type": "execute_result"
    }
   ],
   "source": [
    "x[0]"
   ]
  },
  {
   "cell_type": "markdown",
   "id": "8f29001b",
   "metadata": {},
   "source": [
    "## Splitting the dataset into the training set and testing set"
   ]
  },
  {
   "cell_type": "code",
   "execution_count": 15,
   "id": "009eb8f0",
   "metadata": {},
   "outputs": [],
   "source": [
    "from sklearn.model_selection import train_test_split\n",
    "x_train, x_test, y_train, y_test = train_test_split(x,y, test_size=0.2, random_state =1)"
   ]
  },
  {
   "cell_type": "code",
   "execution_count": 16,
   "id": "35c5e8e6",
   "metadata": {},
   "outputs": [
    {
     "data": {
      "text/plain": [
       "array([[4.0, 1.0, 1, ..., 6.0, 19.0, 0.0],\n",
       "       [4.0, 2.5, 0, ..., 7.0, 24.0, 0.0],\n",
       "       [8.0, 5.0, 1, ..., 12.0, 4.0, 0.0],\n",
       "       ...,\n",
       "       [2.0, 1.75, 1, ..., 9.0, 15.0, 0.0],\n",
       "       [4.0, 2.25, 1, ..., 12.0, 15.0, 0.0],\n",
       "       [3.0, 1.5, 1, ..., 8.0, 15.0, 0.0]], dtype=object)"
      ]
     },
     "execution_count": 16,
     "metadata": {},
     "output_type": "execute_result"
    }
   ],
   "source": [
    "x_train"
   ]
  },
  {
   "cell_type": "code",
   "execution_count": 17,
   "id": "87513589",
   "metadata": {},
   "outputs": [
    {
     "data": {
      "text/plain": [
       "array([[2.0, 2.5, 0, ..., 2.0, 13.0, 0.0],\n",
       "       [3.0, 2.5, 1, ..., 5.0, 16.0, 0.0],\n",
       "       [3.0, 2.25, 0, ..., 11.0, 12.0, 0.0],\n",
       "       ...,\n",
       "       [2.0, 1.0, 0, ..., 8.0, 19.0, 0.0],\n",
       "       [3.0, 3.5, 0, ..., 9.0, 12.0, 0.0],\n",
       "       [3.0, 1.5, 0, ..., 3.0, 27.0, 0.0]], dtype=object)"
      ]
     },
     "execution_count": 17,
     "metadata": {},
     "output_type": "execute_result"
    }
   ],
   "source": [
    "x_test"
   ]
  },
  {
   "cell_type": "code",
   "execution_count": 18,
   "id": "485d318f",
   "metadata": {},
   "outputs": [
    {
     "data": {
      "text/plain": [
       "array([[395000],\n",
       "       [672000],\n",
       "       [490000],\n",
       "       ...,\n",
       "       [766500],\n",
       "       [734000],\n",
       "       [259950]], dtype=int64)"
      ]
     },
     "execution_count": 18,
     "metadata": {},
     "output_type": "execute_result"
    }
   ],
   "source": [
    "y_train"
   ]
  },
  {
   "cell_type": "code",
   "execution_count": 19,
   "id": "a55b7460",
   "metadata": {},
   "outputs": [
    {
     "data": {
      "text/plain": [
       "array([[400000],\n",
       "       [425000],\n",
       "       [490000],\n",
       "       ...,\n",
       "       [255000],\n",
       "       [496000],\n",
       "       [552500]], dtype=int64)"
      ]
     },
     "execution_count": 19,
     "metadata": {},
     "output_type": "execute_result"
    }
   ],
   "source": [
    "y_test"
   ]
  },
  {
   "cell_type": "markdown",
   "id": "84112ae3",
   "metadata": {},
   "source": [
    "## Feature Scaling"
   ]
  },
  {
   "cell_type": "code",
   "execution_count": 20,
   "id": "360ab001",
   "metadata": {},
   "outputs": [],
   "source": [
    "# from sklearn.preprocessing import StandardScaler\n",
    "# sc = StandardScaler()\n",
    "# x_train[:,:] = sc.fit_transform(x_train[:,:])\n",
    "# x_test[:,:] = sc.fit_transform(x_test[:,:])"
   ]
  },
  {
   "cell_type": "code",
   "execution_count": 21,
   "id": "67abe4ad",
   "metadata": {},
   "outputs": [
    {
     "data": {
      "text/plain": [
       "array([[4.0, 1.0, 1, ..., 6.0, 19.0, 0.0],\n",
       "       [4.0, 2.5, 0, ..., 7.0, 24.0, 0.0],\n",
       "       [8.0, 5.0, 1, ..., 12.0, 4.0, 0.0],\n",
       "       ...,\n",
       "       [2.0, 1.75, 1, ..., 9.0, 15.0, 0.0],\n",
       "       [4.0, 2.25, 1, ..., 12.0, 15.0, 0.0],\n",
       "       [3.0, 1.5, 1, ..., 8.0, 15.0, 0.0]], dtype=object)"
      ]
     },
     "execution_count": 21,
     "metadata": {},
     "output_type": "execute_result"
    }
   ],
   "source": [
    "x_train"
   ]
  },
  {
   "cell_type": "code",
   "execution_count": 22,
   "id": "d9eb6d66",
   "metadata": {},
   "outputs": [
    {
     "data": {
      "text/plain": [
       "array([[2.0, 2.5, 0, ..., 2.0, 13.0, 0.0],\n",
       "       [3.0, 2.5, 1, ..., 5.0, 16.0, 0.0],\n",
       "       [3.0, 2.25, 0, ..., 11.0, 12.0, 0.0],\n",
       "       ...,\n",
       "       [2.0, 1.0, 0, ..., 8.0, 19.0, 0.0],\n",
       "       [3.0, 3.5, 0, ..., 9.0, 12.0, 0.0],\n",
       "       [3.0, 1.5, 0, ..., 3.0, 27.0, 0.0]], dtype=object)"
      ]
     },
     "execution_count": 22,
     "metadata": {},
     "output_type": "execute_result"
    }
   ],
   "source": [
    "x_test"
   ]
  },
  {
   "cell_type": "code",
   "execution_count": 23,
   "id": "75ec0b26",
   "metadata": {},
   "outputs": [
    {
     "data": {
      "text/plain": [
       "LinearRegression()"
      ]
     },
     "execution_count": 23,
     "metadata": {},
     "output_type": "execute_result"
    }
   ],
   "source": [
    "from sklearn.linear_model import LinearRegression\n",
    "regressor = LinearRegression()\n",
    "regressor.fit(x_train,y_train)"
   ]
  },
  {
   "cell_type": "code",
   "execution_count": 24,
   "id": "eeae4f97",
   "metadata": {},
   "outputs": [
    {
     "data": {
      "text/plain": [
       "0.6890590128087117"
      ]
     },
     "execution_count": 24,
     "metadata": {},
     "output_type": "execute_result"
    }
   ],
   "source": [
    "regressor.score(x_test,y_test)"
   ]
  },
  {
   "cell_type": "code",
   "execution_count": 25,
   "id": "34278000",
   "metadata": {},
   "outputs": [],
   "source": [
    "# Predict house prices on the test set\n",
    "y_pred = regressor.predict(x_test)"
   ]
  },
  {
   "cell_type": "code",
   "execution_count": 26,
   "id": "ea179b85",
   "metadata": {},
   "outputs": [],
   "source": [
    "# Evaluate the model using metrics\n",
    "from sklearn.metrics import mean_squared_error, r2_score\n",
    "mse = mean_squared_error(y_test, y_pred)\n",
    "r2 = r2_score(y_test, y_pred)"
   ]
  },
  {
   "cell_type": "code",
   "execution_count": 27,
   "id": "46f1f4a9",
   "metadata": {},
   "outputs": [
    {
     "name": "stdout",
     "output_type": "stream",
     "text": [
      "Mean Squared Error(MSE): 38898381989.28538\n",
      "R-squared (R2) Score: 0.6890590128087117\n"
     ]
    }
   ],
   "source": [
    "print(\"Mean Squared Error(MSE):\", mse)\n",
    "print(\"R-squared (R2) Score:\", r2)"
   ]
  },
  {
   "cell_type": "code",
   "execution_count": null,
   "id": "219b4922",
   "metadata": {},
   "outputs": [],
   "source": []
  },
  {
   "cell_type": "code",
   "execution_count": 28,
   "id": "d9350b35",
   "metadata": {},
   "outputs": [
    {
     "name": "stderr",
     "output_type": "stream",
     "text": [
      "C:\\Users\\vivek\\AppData\\Local\\Temp\\ipykernel_8488\\1919193133.py:3: DataConversionWarning: A column-vector y was passed when a 1d array was expected. Please change the shape of y to (n_samples,), for example using ravel().\n",
      "  regressor.fit(x_train,y_train)\n"
     ]
    },
    {
     "data": {
      "text/plain": [
       "RandomForestRegressor(n_estimators=10, random_state=0)"
      ]
     },
     "execution_count": 28,
     "metadata": {},
     "output_type": "execute_result"
    }
   ],
   "source": [
    "from sklearn.ensemble import RandomForestRegressor\n",
    "regressor = RandomForestRegressor(n_estimators = 10, random_state = 0)\n",
    "regressor.fit(x_train,y_train)\n",
    "\n",
    "# rf_predictions = regressor.predict(x_test)"
   ]
  },
  {
   "cell_type": "code",
   "execution_count": 29,
   "id": "c39f36b7",
   "metadata": {},
   "outputs": [
    {
     "data": {
      "text/plain": [
       "0.8715925996928533"
      ]
     },
     "execution_count": 29,
     "metadata": {},
     "output_type": "execute_result"
    }
   ],
   "source": [
    "regressor.score(x_test, y_test)"
   ]
  },
  {
   "cell_type": "code",
   "execution_count": 30,
   "id": "02f65583",
   "metadata": {},
   "outputs": [],
   "source": [
    "# Predict house prices on the test set\n",
    "y_pred = regressor.predict(x_test)"
   ]
  },
  {
   "cell_type": "code",
   "execution_count": 31,
   "id": "40d8bbcd",
   "metadata": {},
   "outputs": [],
   "source": [
    "# Evaluate the model using metrics\n",
    "from sklearn.metrics import mean_squared_error, r2_score\n",
    "mse = mean_squared_error(y_test, y_pred)\n",
    "r2 = r2_score(y_test, y_pred)"
   ]
  },
  {
   "cell_type": "code",
   "execution_count": 32,
   "id": "9140c3f0",
   "metadata": {},
   "outputs": [
    {
     "name": "stdout",
     "output_type": "stream",
     "text": [
      "Mean Squared Error(MSE): 16063627225.59214\n",
      "R-squared (R2) Score: 0.8715925996928533\n"
     ]
    }
   ],
   "source": [
    "print(\"Mean Squared Error(MSE):\", mse)\n",
    "print(\"R-squared (R2) Score:\", r2)"
   ]
  }
 ],
 "metadata": {
  "kernelspec": {
   "display_name": "Python 3 (ipykernel)",
   "language": "python",
   "name": "python3"
  },
  "language_info": {
   "codemirror_mode": {
    "name": "ipython",
    "version": 3
   },
   "file_extension": ".py",
   "mimetype": "text/x-python",
   "name": "python",
   "nbconvert_exporter": "python",
   "pygments_lexer": "ipython3",
   "version": "3.9.13"
  }
 },
 "nbformat": 4,
 "nbformat_minor": 5
}
