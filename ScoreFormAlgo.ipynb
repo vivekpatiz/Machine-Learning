{
 "cells": [
  {
   "cell_type": "code",
   "execution_count": 96,
   "id": "8ebf65cd",
   "metadata": {},
   "outputs": [],
   "source": [
    "import pandas as pd\n",
    "import numpy as np\n",
    "from sklearn.model_selection import train_test_split\n",
    "from sklearn.ensemble import RandomForestClassifier\n",
    "from sklearn.metrics import accuracy_score\n",
    "import matplotlib.pyplot as plt"
   ]
  },
  {
   "cell_type": "code",
   "execution_count": 94,
   "id": "1d660946",
   "metadata": {},
   "outputs": [
    {
     "data": {
      "text/html": [
       "<div>\n",
       "<style scoped>\n",
       "    .dataframe tbody tr th:only-of-type {\n",
       "        vertical-align: middle;\n",
       "    }\n",
       "\n",
       "    .dataframe tbody tr th {\n",
       "        vertical-align: top;\n",
       "    }\n",
       "\n",
       "    .dataframe thead th {\n",
       "        text-align: right;\n",
       "    }\n",
       "</style>\n",
       "<table border=\"1\" class=\"dataframe\">\n",
       "  <thead>\n",
       "    <tr style=\"text-align: right;\">\n",
       "      <th></th>\n",
       "      <th>A</th>\n",
       "      <th>B</th>\n",
       "      <th>C</th>\n",
       "    </tr>\n",
       "  </thead>\n",
       "  <tbody>\n",
       "    <tr>\n",
       "      <th>1</th>\n",
       "      <td>2</td>\n",
       "      <td>5</td>\n",
       "      <td>10.0</td>\n",
       "    </tr>\n",
       "  </tbody>\n",
       "</table>\n",
       "</div>"
      ],
      "text/plain": [
       "   A  B     C\n",
       "1  2  5  10.0"
      ]
     },
     "execution_count": 94,
     "metadata": {},
     "output_type": "execute_result"
    }
   ],
   "source": [
    "df_sample = pd.read_csv('User_Data.csv')\n",
    "df_sample = df.dropna(axis=0)\n",
    "df = df_sample.iloc[0:200,:]\n",
    "df.head()"
   ]
  },
  {
   "cell_type": "code",
   "execution_count": null,
   "id": "5d9d4e71",
   "metadata": {},
   "outputs": [],
   "source": []
  },
  {
   "cell_type": "code",
   "execution_count": 81,
   "id": "c20ada2f",
   "metadata": {},
   "outputs": [
    {
     "name": "stdout",
     "output_type": "stream",
     "text": [
      "   A  B\n",
      "0  1  4\n",
      "1  2  5\n",
      "2  3  6\n",
      "   A  B     C\n",
      "0  1  4   NaN\n",
      "1  2  5  10.0\n",
      "2  3  6   NaN\n"
     ]
    }
   ],
   "source": [
    "import pandas as pd\n",
    "\n",
    "# Sample DataFrame\n",
    "data = {'A': [1, 2, 3],\n",
    "        'B': [4, 5, 6]}\n",
    "df = pd.DataFrame(data)\n",
    "print(df)\n",
    "# Using .at[] to change a specific cell value\n",
    "df.at[1, 'C'] = 10\n",
    "\n",
    "\n",
    "print(df)\n"
   ]
  },
  {
   "cell_type": "code",
   "execution_count": 103,
   "id": "ee15d89d",
   "metadata": {},
   "outputs": [
    {
     "data": {
      "text/plain": [
       "[57.21,\n",
       " 57.79,\n",
       " 58.94,\n",
       " 59.52,\n",
       " 59.53,\n",
       " 61.26,\n",
       " 61.83,\n",
       " 62.41,\n",
       " 62.42,\n",
       " 62.99,\n",
       " 63.57,\n",
       " 64.15,\n",
       " 64.72,\n",
       " 64.73,\n",
       " 65.3,\n",
       " 66.46,\n",
       " 67.03,\n",
       " 67.04,\n",
       " 67.61,\n",
       " 68.2,\n",
       " 69.35,\n",
       " 69.92,\n",
       " 69.93,\n",
       " 70.51,\n",
       " 71.09,\n",
       " 71.66,\n",
       " 72.24,\n",
       " 72.82,\n",
       " 73.4,\n",
       " 73.98,\n",
       " 74.56,\n",
       " 75.13,\n",
       " 75.71,\n",
       " 76.29,\n",
       " 76.3,\n",
       " 77.44,\n",
       " 77.45,\n",
       " 78.02,\n",
       " 78.6,\n",
       " 79.18,\n",
       " 80.91,\n",
       " 81.49,\n",
       " 81.5,\n",
       " 82.07,\n",
       " 82.64,\n",
       " 83.22,\n",
       " 83.8,\n",
       " 84.38,\n",
       " 84.39,\n",
       " 85.53,\n",
       " 86.11,\n",
       " 86.69,\n",
       " 87.27,\n",
       " 87.84,\n",
       " 88.42,\n",
       " 88.43,\n",
       " 89,\n",
       " 89.58,\n",
       " 90.15,\n",
       " 90.73,\n",
       " 91.31,\n",
       " 91.32,\n",
       " 92.47,\n",
       " 93.04,\n",
       " 93.62,\n",
       " 94.2]"
      ]
     },
     "execution_count": 103,
     "metadata": {},
     "output_type": "execute_result"
    }
   ],
   "source": [
    "x = [69.21, 73.06, 80.75, 84.59, 84.6, 88.45, 92.29, 96.14, 99.98, 107.68, 111.53]\n",
    "y = [57.21,57.79,58.94,59.52,59.53,61.26,61.83,62.41,62.42,62.99,63.57,64.15,64.72,64.73,65.3,66.46,67.03,67.04,67.61,68.2,69.35,69.92,69.93,70.51,71.09,71.66,72.24,72.82,73.4,73.98,74.56,75.13,75.71,76.29,76.3,77.44,77.45,78.02,78.6,79.18,80.91,81.49,81.5,82.07,82.64,83.22,83.8,84.38,84.39,85.53,86.11,86.69,87.27,87.84,88.42,88.43,89,89.58,90.15,90.73,91.31,91.32,92.47,93.04,93.62,94.2]\n",
    "# plt.plot(x,color='green', label='Purchased')\n",
    "# plt.plot(y,color='red', label='Not Purchased')\n",
    "# plt.show\n",
    "\n",
    "\n",
    "\n",
    "\n",
    "\n",
    "\n",
    "\n"
   ]
  },
  {
   "cell_type": "code",
   "execution_count": null,
   "id": "e8488b51",
   "metadata": {},
   "outputs": [],
   "source": []
  }
 ],
 "metadata": {
  "kernelspec": {
   "display_name": "Python 3 (ipykernel)",
   "language": "python",
   "name": "python3"
  },
  "language_info": {
   "codemirror_mode": {
    "name": "ipython",
    "version": 3
   },
   "file_extension": ".py",
   "mimetype": "text/x-python",
   "name": "python",
   "nbconvert_exporter": "python",
   "pygments_lexer": "ipython3",
   "version": "3.9.13"
  }
 },
 "nbformat": 4,
 "nbformat_minor": 5
}
